{
 "cells": [
  {
   "cell_type": "markdown",
   "metadata": {
    "id": "gS1IIAS-bcb-"
   },
   "source": [
    "# Learning from Sequences: Timeseries and Text\n",
    "\n",
    "Created by Dr Ana Matran-Fernandez (amatra@essex.ac.uk) for CE888 (Data Science and Decision Making)\n",
    "\n",
    "This notebook accompanies lecture 8 and illustrates recurrent neural networks on an example of a timeseries (predicting tomorrow's temperature) and a classification problem on the IMDB text dataset."
   ]
  },
  {
   "cell_type": "markdown",
   "metadata": {
    "id": "0myiQp20cxRK"
   },
   "source": [
    "# Imports"
   ]
  },
  {
   "cell_type": "code",
   "execution_count": 1,
   "metadata": {
    "id": "1J0bYBQ7_a0L"
   },
   "outputs": [],
   "source": [
    "# imports\n",
    "import numpy as np\n",
    "import matplotlib.pyplot as plt\n",
    "import os\n",
    "import pandas as pd\n",
    "from sklearn.model_selection import train_test_split"
   ]
  },
  {
   "cell_type": "code",
   "execution_count": 2,
   "metadata": {
    "id": "U0NPDv7X_a0M"
   },
   "outputs": [],
   "source": [
    "# tensorflow imports\n",
    "from tensorflow import keras\n",
    "from keras import layers, models\n",
    "from keras.callbacks import EarlyStopping, ModelCheckpoint"
   ]
  },
  {
   "cell_type": "markdown",
   "metadata": {
    "id": "xaiw_VZjbtSH"
   },
   "source": [
    "# Timeseries"
   ]
  },
  {
   "cell_type": "code",
   "execution_count": 3,
   "metadata": {
    "colab": {
     "base_uri": "https://localhost:8080/",
     "height": 363
    },
    "id": "iA_R1Q-K_a0N",
    "outputId": "821d7679-9d5a-4f42-b51c-e5e3898018bb"
   },
   "outputs": [
    {
     "data": {
      "text/html": [
       "<div>\n",
       "<style scoped>\n",
       "    .dataframe tbody tr th:only-of-type {\n",
       "        vertical-align: middle;\n",
       "    }\n",
       "\n",
       "    .dataframe tbody tr th {\n",
       "        vertical-align: top;\n",
       "    }\n",
       "\n",
       "    .dataframe thead th {\n",
       "        text-align: right;\n",
       "    }\n",
       "</style>\n",
       "<table border=\"1\" class=\"dataframe\">\n",
       "  <thead>\n",
       "    <tr style=\"text-align: right;\">\n",
       "      <th></th>\n",
       "      <th>date</th>\n",
       "      <th>radiation_avg</th>\n",
       "      <th>precip</th>\n",
       "      <th>wind_avg</th>\n",
       "      <th>wind_max</th>\n",
       "      <th>temp_avg</th>\n",
       "      <th>humidity_avg</th>\n",
       "    </tr>\n",
       "  </thead>\n",
       "  <tbody>\n",
       "    <tr>\n",
       "      <th>0</th>\n",
       "      <td>14/05/2014 00:00</td>\n",
       "      <td>159</td>\n",
       "      <td>0.0</td>\n",
       "      <td>1.4</td>\n",
       "      <td>3.3</td>\n",
       "      <td>14.27</td>\n",
       "      <td>64.95</td>\n",
       "    </tr>\n",
       "    <tr>\n",
       "      <th>1</th>\n",
       "      <td>15/05/2014 00:00</td>\n",
       "      <td>280</td>\n",
       "      <td>0.0</td>\n",
       "      <td>0.6</td>\n",
       "      <td>2.3</td>\n",
       "      <td>13.51</td>\n",
       "      <td>72.91</td>\n",
       "    </tr>\n",
       "    <tr>\n",
       "      <th>2</th>\n",
       "      <td>16/05/2014 00:00</td>\n",
       "      <td>186</td>\n",
       "      <td>3.4</td>\n",
       "      <td>0.8</td>\n",
       "      <td>2.7</td>\n",
       "      <td>15.65</td>\n",
       "      <td>74.69</td>\n",
       "    </tr>\n",
       "    <tr>\n",
       "      <th>3</th>\n",
       "      <td>17/05/2014 00:00</td>\n",
       "      <td>221</td>\n",
       "      <td>0.0</td>\n",
       "      <td>1.0</td>\n",
       "      <td>3.3</td>\n",
       "      <td>17.46</td>\n",
       "      <td>71.42</td>\n",
       "    </tr>\n",
       "    <tr>\n",
       "      <th>4</th>\n",
       "      <td>18/05/2014 00:00</td>\n",
       "      <td>255</td>\n",
       "      <td>0.0</td>\n",
       "      <td>2.1</td>\n",
       "      <td>5.5</td>\n",
       "      <td>16.85</td>\n",
       "      <td>74.45</td>\n",
       "    </tr>\n",
       "    <tr>\n",
       "      <th>...</th>\n",
       "      <td>...</td>\n",
       "      <td>...</td>\n",
       "      <td>...</td>\n",
       "      <td>...</td>\n",
       "      <td>...</td>\n",
       "      <td>...</td>\n",
       "      <td>...</td>\n",
       "    </tr>\n",
       "    <tr>\n",
       "      <th>2551</th>\n",
       "      <td>17/05/2021 00:00</td>\n",
       "      <td>196</td>\n",
       "      <td>1.4</td>\n",
       "      <td>2.2</td>\n",
       "      <td>5.5</td>\n",
       "      <td>10.51</td>\n",
       "      <td>99.86</td>\n",
       "    </tr>\n",
       "    <tr>\n",
       "      <th>2552</th>\n",
       "      <td>17/05/2021 00:00</td>\n",
       "      <td>173</td>\n",
       "      <td>2.8</td>\n",
       "      <td>1.8</td>\n",
       "      <td>5.5</td>\n",
       "      <td>10.80</td>\n",
       "      <td>99.86</td>\n",
       "    </tr>\n",
       "    <tr>\n",
       "      <th>2553</th>\n",
       "      <td>18/05/2021 00:00</td>\n",
       "      <td>311</td>\n",
       "      <td>0.0</td>\n",
       "      <td>1.4</td>\n",
       "      <td>5.0</td>\n",
       "      <td>10.29</td>\n",
       "      <td>92.94</td>\n",
       "    </tr>\n",
       "    <tr>\n",
       "      <th>2554</th>\n",
       "      <td>19/05/2021 00:00</td>\n",
       "      <td>232</td>\n",
       "      <td>6.6</td>\n",
       "      <td>1.8</td>\n",
       "      <td>5.5</td>\n",
       "      <td>11.39</td>\n",
       "      <td>90.32</td>\n",
       "    </tr>\n",
       "    <tr>\n",
       "      <th>2555</th>\n",
       "      <td>20/05/2021 00:00</td>\n",
       "      <td>44</td>\n",
       "      <td>0.0</td>\n",
       "      <td>0.5</td>\n",
       "      <td>2.7</td>\n",
       "      <td>6.35</td>\n",
       "      <td>99.86</td>\n",
       "    </tr>\n",
       "  </tbody>\n",
       "</table>\n",
       "<p>2556 rows × 7 columns</p>\n",
       "</div>"
      ],
      "text/plain": [
       "                  date  radiation_avg  precip  wind_avg  wind_max  temp_avg  \\\n",
       "0     14/05/2014 00:00            159     0.0       1.4       3.3     14.27   \n",
       "1     15/05/2014 00:00            280     0.0       0.6       2.3     13.51   \n",
       "2     16/05/2014 00:00            186     3.4       0.8       2.7     15.65   \n",
       "3     17/05/2014 00:00            221     0.0       1.0       3.3     17.46   \n",
       "4     18/05/2014 00:00            255     0.0       2.1       5.5     16.85   \n",
       "...                ...            ...     ...       ...       ...       ...   \n",
       "2551  17/05/2021 00:00            196     1.4       2.2       5.5     10.51   \n",
       "2552  17/05/2021 00:00            173     2.8       1.8       5.5     10.80   \n",
       "2553  18/05/2021 00:00            311     0.0       1.4       5.0     10.29   \n",
       "2554  19/05/2021 00:00            232     6.6       1.8       5.5     11.39   \n",
       "2555  20/05/2021 00:00             44     0.0       0.5       2.7      6.35   \n",
       "\n",
       "      humidity_avg  \n",
       "0            64.95  \n",
       "1            72.91  \n",
       "2            74.69  \n",
       "3            71.42  \n",
       "4            74.45  \n",
       "...            ...  \n",
       "2551         99.86  \n",
       "2552         99.86  \n",
       "2553         92.94  \n",
       "2554         90.32  \n",
       "2555         99.86  \n",
       "\n",
       "[2556 rows x 7 columns]"
      ]
     },
     "execution_count": 3,
     "metadata": {},
     "output_type": "execute_result"
    }
   ],
   "source": [
    "df = pd.read_csv('weather.csv')\n",
    "df.drop(['temp_max', 'temp_min'], axis=1, inplace=True)\n",
    "df"
   ]
  },
  {
   "cell_type": "code",
   "execution_count": 4,
   "metadata": {
    "colab": {
     "base_uri": "https://localhost:8080/",
     "height": 279
    },
    "id": "nzsytNAh_a0N",
    "outputId": "fd5d1d32-d135-4784-ed4e-87897d4a5104"
   },
   "outputs": [
    {
     "data": {
      "image/png": "[encoded data removed]",
      "text/plain": [
       "<Figure size 432x288 with 1 Axes>"
      ]
     },
     "metadata": {
      "needs_background": "light"
     },
     "output_type": "display_data"
    }
   ],
   "source": [
    "plt.plot(range(len(df)), df['temp_avg'])\n",
    "plt.xlabel('Temporal range')\n",
    "plt.ylabel('Average temperature (C) (7 years)')\n",
    "plt.savefig('temperature_over_time.pdf', bbox_inches='tight')"
   ]
  },
  {
   "cell_type": "code",
   "execution_count": 5,
   "metadata": {
    "colab": {
     "base_uri": "https://localhost:8080/",
     "height": 279
    },
    "id": "ysbM2n99_a0N",
    "outputId": "e83eb333-eb41-43a6-aed4-d467dd53a0ed"
   },
   "outputs": [
    {
     "data": {
      "image/png": "[encoded data removed]",
      "text/plain": [
       "<Figure size 432x288 with 1 Axes>"
      ]
     },
     "metadata": {
      "needs_background": "light"
     },
     "output_type": "display_data"
    }
   ],
   "source": [
    "# Look at the first 2 years\n",
    "length = 2*365\n",
    "plt.plot(range(length), df['temp_avg'][:length])\n",
    "plt.xlabel('Temporal range')\n",
    "plt.ylabel('Average temperature (C) (2 years)')\n",
    "plt.savefig('temperature_over_time_2y.pdf', bbox_inches='tight')"
   ]
  },
  {
   "cell_type": "markdown",
   "metadata": {
    "id": "ikyqi2m7_a0O"
   },
   "source": [
    "We have clear periodicity every year. In the previous plot we saw 7 cycles (7 years). Here we see 2.\n",
    "\n",
    "Always look for periodicity in your timeseries. There will always be daily and yearly cycles. Check these patterns.\n",
    "\n",
    "Another issue with timeseries is dividing the dataset into train/validation/test sets. We definitely cannot shuffle the data, and we need to be very careful with data leakage (using data from the future)."
   ]
  },
  {
   "cell_type": "markdown",
   "metadata": {
    "id": "1fxuW2ne_a0P"
   },
   "source": [
    "## Data prep\n",
    "\n",
    "We'll try to predict the average temperature of tomorrow based on data from the past.\n",
    "\n",
    "To avoid data leakage, we're going to use a simple approach: use the first 50% of data for training, the next 30% for validation, and the final 20% for testing.\n"
   ]
  },
  {
   "cell_type": "code",
   "execution_count": 6,
   "metadata": {
    "colab": {
     "base_uri": "https://localhost:8080/"
    },
    "id": "vofGsYen_a0P",
    "outputId": "d9c3740f-5cc9-410c-db5b-0e5de780084f"
   },
   "outputs": [
    {
     "name": "stdout",
     "output_type": "stream",
     "text": [
      "Samples for training: 1278; validation: 766; test: 512\n"
     ]
    }
   ],
   "source": [
    "n_tr, n_val = int(0.5*len(df)), int(0.3*len(df))\n",
    "n_te = len(df) - n_tr - n_val\n",
    "print('Samples for training: %d; validation: %d; test: %d' % (n_tr, n_val, n_te))"
   ]
  },
  {
   "cell_type": "code",
   "execution_count": 7,
   "metadata": {
    "colab": {
     "base_uri": "https://localhost:8080/"
    },
    "id": "lsMDT2Jq_a0P",
    "outputId": "40daccd3-273c-4909-818c-09a40b155929"
   },
   "outputs": [
    {
     "name": "stdout",
     "output_type": "stream",
     "text": [
      "(2556, 6)\n"
     ]
    }
   ],
   "source": [
    "# Get the data from the dataframe (dropping date column)\n",
    "data = df.iloc[:, 1:].values\n",
    "print(data.shape)\n",
    "assert data.shape[0] == len(df)\n",
    "assert data.shape[1] == len(df.columns)-1, \"Are you sure you're dropping the date?\"\n",
    "# We need to normalise our time series. Calculate mean and std from TRAINING DATA ONLY. \n",
    "# We'll use it on the validation and test sets.\n",
    "mean_tr = data[:n_tr, :].mean(axis=0)\n",
    "std_tr = data[:n_tr, :].std(axis=0)\n",
    "data = (data - mean_tr) / std_tr\n",
    "\n",
    "\n",
    "y = df['temp_avg'].values.reshape(-1, 1)\n",
    "\n",
    "# index of the column that contains the avg_temp\n",
    "y_idx = 4"
   ]
  },
  {
   "cell_type": "code",
   "execution_count": 8,
   "metadata": {
    "colab": {
     "base_uri": "https://localhost:8080/"
    },
    "id": "1VJAcdfICLi1",
    "outputId": "41b330ca-bfad-49b3-ccae-fb22c8411336"
   },
   "outputs": [
    {
     "data": {
      "text/plain": [
       "array([14.27, 13.51, 15.65, 17.46, 16.85, 18.26, 17.35, 15.55, 14.52,\n",
       "       13.93, 11.48, 13.63, 12.81, 12.4 , 13.67, 14.15, 13.22, 12.21,\n",
       "       15.53, 14.52])"
      ]
     },
     "execution_count": 8,
     "metadata": {},
     "output_type": "execute_result"
    }
   ],
   "source": [
    "data[:20, y_idx] * std_tr[y_idx] + mean_tr[y_idx]"
   ]
  },
  {
   "cell_type": "code",
   "execution_count": 9,
   "metadata": {
    "colab": {
     "base_uri": "https://localhost:8080/"
    },
    "id": "xN-YJyEeCUv9",
    "outputId": "9cf43612-c0f3-4864-f113-a9a5531e0904"
   },
   "outputs": [
    {
     "data": {
      "text/plain": [
       "array([[18.26],\n",
       "       [17.35],\n",
       "       [15.55],\n",
       "       [14.52],\n",
       "       [13.93],\n",
       "       [11.48],\n",
       "       [13.63],\n",
       "       [12.81],\n",
       "       [12.4 ],\n",
       "       [13.67],\n",
       "       [14.15],\n",
       "       [13.22],\n",
       "       [12.21],\n",
       "       [15.53],\n",
       "       [14.52],\n",
       "       [15.35],\n",
       "       [12.29],\n",
       "       [13.88],\n",
       "       [15.13],\n",
       "       [17.29]])"
      ]
     },
     "execution_count": 9,
     "metadata": {},
     "output_type": "execute_result"
    }
   ],
   "source": [
    "y[5:25]"
   ]
  },
  {
   "cell_type": "code",
   "execution_count": 10,
   "metadata": {
    "id": "K_JGeiAs_a0Q"
   },
   "outputs": [],
   "source": [
    "# We'll use a Dataset from keras to pass our data\n",
    "sampling_rate = 1  # we keep all data points\n",
    "sequence_length = 14  # 2 weeks to predict tomorrow's temperature\n",
    "delay = sampling_rate * sequence_length  # the target is the day after the end of the sequence\n",
    "batch_size = 16"
   ]
  },
  {
   "cell_type": "code",
   "execution_count": 11,
   "metadata": {
    "colab": {
     "base_uri": "https://localhost:8080/"
    },
    "id": "cRDGWNYl_a0Q",
    "outputId": "126b8150-1e10-4f4d-afd1-0666658a6796"
   },
   "outputs": [
    {
     "name": "stdout",
     "output_type": "stream",
     "text": [
      "X shape: (16, 14, 6)\n",
      "target shape: (16, 1)\n"
     ]
    }
   ],
   "source": [
    "train_dataset = keras.utils.timeseries_dataset_from_array(\n",
    "    data[:-delay],\n",
    "    targets=y[delay:],\n",
    "    sampling_rate=sampling_rate, sequence_length=sequence_length,\n",
    "    batch_size=batch_size,\n",
    "    start_index=0, end_index=n_tr  # first 50% for training\n",
    "    )\n",
    "\n",
    "val_dataset = keras.utils.timeseries_dataset_from_array(\n",
    "    data[:-delay],\n",
    "    targets=y[delay:],\n",
    "    sampling_rate=sampling_rate, sequence_length=sequence_length,\n",
    "    batch_size=batch_size,\n",
    "    start_index=n_tr, end_index=n_tr+n_val  # 50%-80% for validation\n",
    "    )\n",
    "\n",
    "test_dataset = keras.utils.timeseries_dataset_from_array(\n",
    "    data[:-delay],\n",
    "    targets=y[delay:],\n",
    "    sampling_rate=sampling_rate, sequence_length=sequence_length,\n",
    "    batch_size=batch_size,\n",
    "    start_index=n_tr+n_val  # last 20% for test\n",
    "    )\n",
    "\n",
    "for X, target in train_dataset:\n",
    "    print(\"X shape:\", X.shape)\n",
    "    print(\"target shape:\", target.shape)\n",
    "    #print(X[:, :, y_idx] * std_tr[y_idx] + mean_tr[y_idx])\n",
    "    #print(target)\n",
    "    break  # so we only print once"
   ]
  },
  {
   "cell_type": "code",
   "execution_count": 12,
   "metadata": {
    "id": "u_v2rAW_W4kQ"
   },
   "outputs": [],
   "source": [
    "# Function to plot history with neural networks\n",
    "def plot_hist_regression(hist, y):\n",
    "  n_ = len(hist.history['mae'])\n",
    "  plt.plot(range(1, n_+1), np.asarray(hist.history['mae']), 'bo', label='MAE on training set')\n",
    "  plt.plot(range(1, n_+1), np.asarray(hist.history['val_mae']), 'b', label='MAE on validation set')\n",
    "  plt.legend()\n",
    "  plt.xlabel(\"Epoch\") \n",
    "  plt.ylabel(\"MAE (degrees)\")\n",
    "  plt.axhline(y=y)\n",
    "  plt.show()\n"
   ]
  },
  {
   "cell_type": "markdown",
   "metadata": {
    "id": "WlhjIvZR_a0Q"
   },
   "source": [
    "## Establishing a baseline\n"
   ]
  },
  {
   "cell_type": "markdown",
   "metadata": {
    "id": "rloJamyvWPWj"
   },
   "source": [
    "### Common sense, no ML baseline\n",
    "\n",
    "- Sanity check\n",
    "- To establish whether ML methods are actually any good\n",
    "\n",
    "Tomorrow's temperature is likely to be close to today's: let's predict that the temperature 24 hours from now will be equal to the temperature right now.\n",
    "\n",
    "We'll use the MAE as metric"
   ]
  },
  {
   "cell_type": "code",
   "execution_count": 13,
   "metadata": {
    "colab": {
     "base_uri": "https://localhost:8080/"
    },
    "id": "MUY5acIf_a0Q",
    "outputId": "dcdc5e72-a117-43ca-c7f5-7c31437c7444"
   },
   "outputs": [
    {
     "name": "stdout",
     "output_type": "stream",
     "text": [
      "MAE on train set = 2.56 (degrees Celsius)\n",
      "MAE on validation set = 2.69 (degrees Celsius)\n",
      "MAE on test set = 2.85 (degrees Celsius)\n"
     ]
    }
   ],
   "source": [
    "def naive_method(dataset, mean, std):\n",
    "    error = 0\n",
    "    samples = 0\n",
    "    count = 0\n",
    "    for X, target in dataset:\n",
    "        pred = X[:, -1, y_idx] * std + mean  # predict last available temperature and un-standardise\n",
    "        #print(X.shape, target.shape, pred.shape)  # [batch_size, sequence_length, n_feats]\n",
    "        #print(X[:, -1, y_idx] * std + mean, target)\n",
    "        error += np.sum(np.abs(pred - target))\n",
    "        samples += X.shape[0]  # batch_size\n",
    "        count += 1\n",
    "    return error / samples / batch_size # average\n",
    "\n",
    "\n",
    "print('MAE on train set = %.2f (degrees Celsius)' % naive_method(train_dataset, mean_tr[y_idx], std_tr[y_idx]))\n",
    "print('MAE on validation set = %.2f (degrees Celsius)' % naive_method(val_dataset, mean_tr[y_idx], std_tr[y_idx]))\n",
    "print('MAE on test set = %.2f (degrees Celsius)' % naive_method(test_dataset, mean_tr[y_idx], std_tr[y_idx]))\n",
    "# Save MAE on validation for later\n",
    "baseline = naive_method(val_dataset, mean_tr[y_idx], std_tr[y_idx])"
   ]
  },
  {
   "cell_type": "markdown",
   "metadata": {
    "id": "znycUtxiJmAF"
   },
   "source": [
    "This baseline achieves a validation MAE of 2.69 degrees and a test MAE of 2.85 degrees. So if we assume that tomorrow's temperature will be the same as today's, we'll be off by less than 3 degrees on average.\n",
    "\n",
    "Not too bad, but surely we can do better!"
   ]
  },
  {
   "cell_type": "markdown",
   "metadata": {
    "id": "7c-duA1Z_a0R"
   },
   "source": [
    "### Simple ML baseline\n",
    "\n",
    "\n"
   ]
  },
  {
   "cell_type": "code",
   "execution_count": 14,
   "metadata": {
    "colab": {
     "base_uri": "https://localhost:8080/"
    },
    "id": "fWGqpICHJlRe",
    "outputId": "23ab2130-e029-42ac-95ae-a1174fb801d5"
   },
   "outputs": [
    {
     "name": "stdout",
     "output_type": "stream",
     "text": [
      "Model: \"sequential\"\n",
      "_________________________________________________________________\n",
      " Layer (type)                Output Shape              Param #   \n",
      "=================================================================\n",
      " flatten (Flatten)           (None, 84)                0         \n",
      "                                                                 \n",
      " dense (Dense)               (None, 10)                850       \n",
      "                                                                 \n",
      " dense_1 (Dense)             (None, 1)                 11        \n",
      "                                                                 \n",
      "=================================================================\n",
      "Total params: 861\n",
      "Trainable params: 861\n",
      "Non-trainable params: 0\n",
      "_________________________________________________________________\n"
     ]
    }
   ],
   "source": [
    "# To get some practice with neural networks, we'll try a 1-layer NN with nothing fancy.\n",
    "\n",
    "model_dense = models.Sequential()\n",
    "model_dense.add(layers.Flatten(input_shape=(sequence_length, len(df.columns)-1)))  # we need to specify the input shape or we won't be able to see the summary\n",
    "model_dense.add(layers.Dense(10, activation='relu'))\n",
    "model_dense.add(layers.Dense(1))\n",
    "\n",
    "model_dense.summary()"
   ]
  },
  {
   "cell_type": "code",
   "execution_count": 15,
   "metadata": {
    "colab": {
     "base_uri": "https://localhost:8080/"
    },
    "id": "p0Hz1rX8LMfT",
    "outputId": "e9674789-48af-4682-f7fa-aec2fc10cb4a"
   },
   "outputs": [
    {
     "name": "stdout",
     "output_type": "stream",
     "text": [
      "Epoch 1/20\n",
      "80/80 [==============================] - 2s 12ms/step - loss: 107.1977 - mae: 9.2035 - val_loss: 89.1348 - val_mae: 8.3582\n",
      "Epoch 2/20\n",
      "80/80 [==============================] - 1s 7ms/step - loss: 69.4716 - mae: 7.3756 - val_loss: 56.1179 - val_mae: 6.5404\n",
      "Epoch 3/20\n",
      "80/80 [==============================] - 0s 6ms/step - loss: 44.5662 - mae: 5.6970 - val_loss: 39.0454 - val_mae: 5.1968\n",
      "Epoch 4/20\n",
      "80/80 [==============================] - 1s 7ms/step - loss: 35.1528 - mae: 4.9059 - val_loss: 32.9099 - val_mae: 4.7149\n",
      "Epoch 5/20\n",
      "80/80 [==============================] - 1s 7ms/step - loss: 31.1749 - mae: 4.5937 - val_loss: 30.2257 - val_mae: 4.4842\n",
      "Epoch 6/20\n",
      "80/80 [==============================] - 1s 6ms/step - loss: 28.6174 - mae: 4.3861 - val_loss: 28.5330 - val_mae: 4.3426\n",
      "Epoch 7/20\n",
      "80/80 [==============================] - 1s 7ms/step - loss: 26.6916 - mae: 4.2304 - val_loss: 27.1123 - val_mae: 4.2197\n",
      "Epoch 8/20\n",
      "80/80 [==============================] - 1s 7ms/step - loss: 25.0473 - mae: 4.1000 - val_loss: 25.7467 - val_mae: 4.1008\n",
      "Epoch 9/20\n",
      "80/80 [==============================] - 1s 6ms/step - loss: 23.5589 - mae: 3.9777 - val_loss: 24.4070 - val_mae: 3.9852\n",
      "Epoch 10/20\n",
      "80/80 [==============================] - 1s 7ms/step - loss: 22.1675 - mae: 3.8590 - val_loss: 23.0292 - val_mae: 3.8650\n",
      "Epoch 11/20\n",
      "80/80 [==============================] - 1s 6ms/step - loss: 20.8346 - mae: 3.7401 - val_loss: 21.6536 - val_mae: 3.7442\n",
      "Epoch 12/20\n",
      "80/80 [==============================] - 1s 7ms/step - loss: 19.5250 - mae: 3.6195 - val_loss: 20.2721 - val_mae: 3.6211\n",
      "Epoch 13/20\n",
      "80/80 [==============================] - 1s 7ms/step - loss: 18.2547 - mae: 3.4976 - val_loss: 18.9429 - val_mae: 3.4993\n",
      "Epoch 14/20\n",
      "80/80 [==============================] - 1s 6ms/step - loss: 17.0354 - mae: 3.3774 - val_loss: 17.7061 - val_mae: 3.3804\n",
      "Epoch 15/20\n",
      "80/80 [==============================] - 1s 7ms/step - loss: 15.9130 - mae: 3.2639 - val_loss: 16.5789 - val_mae: 3.2654\n",
      "Epoch 16/20\n",
      "80/80 [==============================] - 1s 7ms/step - loss: 14.8783 - mae: 3.1553 - val_loss: 15.5774 - val_mae: 3.1587\n",
      "Epoch 17/20\n",
      "80/80 [==============================] - 1s 6ms/step - loss: 13.9420 - mae: 3.0524 - val_loss: 14.6832 - val_mae: 3.0612\n",
      "Epoch 18/20\n",
      "80/80 [==============================] - 1s 7ms/step - loss: 13.0987 - mae: 2.9542 - val_loss: 13.8925 - val_mae: 2.9740\n",
      "Epoch 19/20\n",
      "80/80 [==============================] - 1s 6ms/step - loss: 12.3219 - mae: 2.8578 - val_loss: 13.1999 - val_mae: 2.8980\n",
      "Epoch 20/20\n",
      "80/80 [==============================] - 1s 7ms/step - loss: 11.6261 - mae: 2.7686 - val_loss: 12.5802 - val_mae: 2.8271\n"
     ]
    }
   ],
   "source": [
    "n_epochs = 20\n",
    "\n",
    "model_dense.compile(optimizer='rmsprop', loss='mse', metrics=['mae'])\n",
    "history_dense = model_dense.fit(train_dataset, epochs=n_epochs, validation_data=val_dataset)"
   ]
  },
  {
   "cell_type": "code",
   "execution_count": 16,
   "metadata": {
    "colab": {
     "base_uri": "https://localhost:8080/",
     "height": 283
    },
    "id": "aBRYn-AKMCi4",
    "outputId": "7c1891b1-da33-4052-e71b-e0876c7bdbca"
   },
   "outputs": [
    {
     "data": {
      "image/png": "[encoded data removed]",
      "text/plain": [
       "<Figure size 432x288 with 1 Axes>"
      ]
     },
     "metadata": {
      "needs_background": "light"
     },
     "output_type": "display_data"
    }
   ],
   "source": [
    "# Plot MAE cures for validation and training\n",
    "plot_hist_regression(history_dense, baseline)"
   ]
  },
  {
   "cell_type": "markdown",
   "metadata": {
    "id": "1EJywOA5NJa9"
   },
   "source": [
    "Validation loss is worse than what we had with our common-sense baseline, and we're already overfitting (MAE on training set is lower than on validation set). It turns out our previous baseline is not as easy to outperform as we thought!\n",
    "\n",
    "Remember our 'hypothesis space'? Using 2 Dense layers doesn't seem to be very useful in this case. We need other types of layers for this problem."
   ]
  },
  {
   "cell_type": "code",
   "execution_count": 17,
   "metadata": {
    "colab": {
     "base_uri": "https://localhost:8080/"
    },
    "id": "k6PADykQPIjq",
    "outputId": "0c3d48b1-f910-4648-d08e-e6147fc3b5b6"
   },
   "outputs": [
    {
     "name": "stdout",
     "output_type": "stream",
     "text": [
      "Model: \"sequential_1\"\n",
      "_________________________________________________________________\n",
      " Layer (type)                Output Shape              Param #   \n",
      "=================================================================\n",
      " conv1d (Conv1D)             (None, 8, 8)              344       \n",
      "                                                                 \n",
      " max_pooling1d (MaxPooling1D  (None, 4, 8)             0         \n",
      " )                                                               \n",
      "                                                                 \n",
      " conv1d_1 (Conv1D)           (None, 2, 8)              200       \n",
      "                                                                 \n",
      " max_pooling1d_1 (MaxPooling  (None, 1, 8)             0         \n",
      " 1D)                                                             \n",
      "                                                                 \n",
      " global_average_pooling1d (G  (None, 8)                0         \n",
      " lobalAveragePooling1D)                                          \n",
      "                                                                 \n",
      " dense_2 (Dense)             (None, 1)                 9         \n",
      "                                                                 \n",
      "=================================================================\n",
      "Total params: 553\n",
      "Trainable params: 553\n",
      "Non-trainable params: 0\n",
      "_________________________________________________________________\n"
     ]
    }
   ],
   "source": [
    "# We know that CNNs take advantage of neighbouring values, so why don't we try that?\n",
    "\n",
    "# In addition to the Conv2D layers we saw last week, there are Conv1D and Conv3D layers. \n",
    "# Conv1D layers rely on 1D windows that slide across an input sequence (imagine a 1D image)\n",
    "\n",
    "model_cnn = models.Sequential()\n",
    "model_cnn.add(layers.Conv1D(8, 7, activation='relu', input_shape=(sequence_length, len(df.columns)-1)))\n",
    "model_cnn.add(layers.MaxPooling1D(2))\n",
    "model_cnn.add(layers.Conv1D(8, 3, activation='relu'))\n",
    "model_cnn.add(layers.MaxPooling1D(2))\n",
    "model_cnn.add(layers.GlobalAveragePooling1D())\n",
    "model_cnn.add(layers.Dense(1))\n",
    "\n",
    "model_cnn.summary()"
   ]
  },
  {
   "cell_type": "code",
   "execution_count": 18,
   "metadata": {
    "colab": {
     "base_uri": "https://localhost:8080/"
    },
    "id": "PSGRJSulQs22",
    "outputId": "44faf343-33d6-44d4-8d70-2ae98c010db0"
   },
   "outputs": [
    {
     "name": "stdout",
     "output_type": "stream",
     "text": [
      "Epoch 1/20\n",
      "80/80 [==============================] - 2s 11ms/step - loss: 107.4207 - mae: 8.9569 - val_loss: 72.8041 - val_mae: 7.1055\n",
      "Epoch 2/20\n",
      "80/80 [==============================] - 1s 8ms/step - loss: 40.5003 - mae: 5.3514 - val_loss: 23.2078 - val_mae: 3.7592\n",
      "Epoch 3/20\n",
      "80/80 [==============================] - 1s 7ms/step - loss: 17.2242 - mae: 3.3360 - val_loss: 17.8003 - val_mae: 3.0755\n",
      "Epoch 4/20\n",
      "80/80 [==============================] - 1s 8ms/step - loss: 14.8426 - mae: 3.0663 - val_loss: 16.2367 - val_mae: 2.9415\n",
      "Epoch 5/20\n",
      "80/80 [==============================] - 1s 8ms/step - loss: 13.1744 - mae: 2.8884 - val_loss: 15.2033 - val_mae: 2.8902\n",
      "Epoch 6/20\n",
      "80/80 [==============================] - 1s 7ms/step - loss: 12.0887 - mae: 2.7746 - val_loss: 14.5306 - val_mae: 2.8665\n",
      "Epoch 7/20\n",
      "80/80 [==============================] - 1s 7ms/step - loss: 11.3734 - mae: 2.7004 - val_loss: 14.0612 - val_mae: 2.8477\n",
      "Epoch 8/20\n",
      "80/80 [==============================] - 1s 8ms/step - loss: 10.8593 - mae: 2.6450 - val_loss: 13.7493 - val_mae: 2.8351\n",
      "Epoch 9/20\n",
      "80/80 [==============================] - 1s 7ms/step - loss: 10.4405 - mae: 2.5967 - val_loss: 13.5495 - val_mae: 2.8243\n",
      "Epoch 10/20\n",
      "80/80 [==============================] - 1s 7ms/step - loss: 10.1172 - mae: 2.5574 - val_loss: 13.3506 - val_mae: 2.8113\n",
      "Epoch 11/20\n",
      "80/80 [==============================] - 1s 8ms/step - loss: 9.8477 - mae: 2.5239 - val_loss: 13.1480 - val_mae: 2.7968\n",
      "Epoch 12/20\n",
      "80/80 [==============================] - 1s 7ms/step - loss: 9.6037 - mae: 2.4931 - val_loss: 12.9297 - val_mae: 2.7810\n",
      "Epoch 13/20\n",
      "80/80 [==============================] - 1s 7ms/step - loss: 9.3957 - mae: 2.4663 - val_loss: 12.7193 - val_mae: 2.7652\n",
      "Epoch 14/20\n",
      "80/80 [==============================] - 1s 7ms/step - loss: 9.2001 - mae: 2.4412 - val_loss: 12.5324 - val_mae: 2.7494\n",
      "Epoch 15/20\n",
      "80/80 [==============================] - 1s 8ms/step - loss: 9.0170 - mae: 2.4170 - val_loss: 12.3446 - val_mae: 2.7340\n",
      "Epoch 16/20\n",
      "80/80 [==============================] - 1s 8ms/step - loss: 8.8388 - mae: 2.3932 - val_loss: 12.1611 - val_mae: 2.7187\n",
      "Epoch 17/20\n",
      "80/80 [==============================] - 1s 8ms/step - loss: 8.6679 - mae: 2.3704 - val_loss: 11.9885 - val_mae: 2.7041\n",
      "Epoch 18/20\n",
      "80/80 [==============================] - 1s 8ms/step - loss: 8.5061 - mae: 2.3489 - val_loss: 11.8272 - val_mae: 2.6896\n",
      "Epoch 19/20\n",
      "80/80 [==============================] - 1s 8ms/step - loss: 8.3520 - mae: 2.3278 - val_loss: 11.6884 - val_mae: 2.6759\n",
      "Epoch 20/20\n",
      "80/80 [==============================] - 1s 8ms/step - loss: 8.2030 - mae: 2.3080 - val_loss: 11.5574 - val_mae: 2.6636\n"
     ]
    }
   ],
   "source": [
    "model_cnn.compile(optimizer='rmsprop', loss='mse', metrics=['mae'])\n",
    "history_cnn = model_cnn.fit(train_dataset, epochs=n_epochs,\n",
    "                            validation_data=val_dataset)"
   ]
  },
  {
   "cell_type": "code",
   "execution_count": 19,
   "metadata": {
    "colab": {
     "base_uri": "https://localhost:8080/",
     "height": 279
    },
    "id": "6bB6lzLYSG-u",
    "outputId": "8062cd61-ad7a-45a8-c123-048505f8985e"
   },
   "outputs": [
    {
     "data": {
      "image/png": "[encoded data removed]",
      "text/plain": [
       "<Figure size 432x288 with 1 Axes>"
      ]
     },
     "metadata": {
      "needs_background": "light"
     },
     "output_type": "display_data"
    }
   ],
   "source": [
    "# Plot MAE cures for validation and training\n",
    "plot_hist_regression(history_cnn, baseline)"
   ]
  },
  {
   "cell_type": "markdown",
   "metadata": {
    "id": "Kc2iMPSHViL1"
   },
   "source": [
    "This model isn't any better, with a validation MAE of 2.77 degrees (also worse than the 'common-sense approach' that we tried at first), and we're overfitting a bit too.\n",
    "\n",
    "Why?\n",
    "\n",
    "In timeseries, order matters a lot: the recent past is more informative than data from 5 days ago, and convolutional layers don't take advantage of this fact -- max pooling and global average pooling layers actually destroy this order information."
   ]
  },
  {
   "cell_type": "markdown",
   "metadata": {
    "id": "3ozUAZX__a0R"
   },
   "source": [
    "## Long Short Term Memory (LSTM) Neural Networks\n",
    "\n",
    "\n"
   ]
  },
  {
   "cell_type": "code",
   "execution_count": 20,
   "metadata": {
    "colab": {
     "base_uri": "https://localhost:8080/"
    },
    "id": "2dWfiaUw_a0R",
    "outputId": "dd802c62-1be0-45b4-8d14-1f2a606b0d55"
   },
   "outputs": [
    {
     "name": "stdout",
     "output_type": "stream",
     "text": [
      "Model: \"sequential_2\"\n",
      "_________________________________________________________________\n",
      " Layer (type)                Output Shape              Param #   \n",
      "=================================================================\n",
      " lstm (LSTM)                 (None, 20)                2160      \n",
      "                                                                 \n",
      " dense_3 (Dense)             (None, 1)                 21        \n",
      "                                                                 \n",
      "=================================================================\n",
      "Total params: 2,181\n",
      "Trainable params: 2,181\n",
      "Non-trainable params: 0\n",
      "_________________________________________________________________\n"
     ]
    }
   ],
   "source": [
    "# 1-layer LSTM\n",
    "\n",
    "model_lstm1 = models.Sequential()\n",
    "model_lstm1.add(layers.LSTM(20, input_shape=(sequence_length, len(df.columns)-1)))\n",
    "model_lstm1.add(layers.Dense(1))\n",
    "\n",
    "model_lstm1.summary()"
   ]
  },
  {
   "cell_type": "code",
   "execution_count": 21,
   "metadata": {
    "id": "DMst2Mp0R0Xi"
   },
   "outputs": [],
   "source": [
    "n_epochs = 20"
   ]
  },
  {
   "cell_type": "code",
   "execution_count": 22,
   "metadata": {
    "colab": {
     "base_uri": "https://localhost:8080/"
    },
    "id": "Pff2tZQHXb-z",
    "outputId": "7a1028ea-cda1-4359-dfa8-a986de309d50"
   },
   "outputs": [
    {
     "name": "stdout",
     "output_type": "stream",
     "text": [
      "Epoch 1/20\n",
      "80/80 [==============================] - 7s 31ms/step - loss: 133.9112 - mae: 10.4748 - val_loss: 112.8143 - val_mae: 9.5124\n",
      "Epoch 2/20\n",
      "80/80 [==============================] - 1s 19ms/step - loss: 87.3017 - mae: 8.2966 - val_loss: 63.9863 - val_mae: 6.6664\n",
      "Epoch 3/20\n",
      "80/80 [==============================] - 1s 18ms/step - loss: 49.0530 - mae: 5.7883 - val_loss: 39.8571 - val_mae: 4.9785\n",
      "Epoch 4/20\n",
      "80/80 [==============================] - 2s 19ms/step - loss: 33.2651 - mae: 4.6845 - val_loss: 30.0253 - val_mae: 4.3287\n",
      "Epoch 5/20\n",
      "80/80 [==============================] - 1s 17ms/step - loss: 25.1615 - mae: 4.0570 - val_loss: 24.0290 - val_mae: 3.8935\n",
      "Epoch 6/20\n",
      "80/80 [==============================] - 1s 19ms/step - loss: 20.0893 - mae: 3.6186 - val_loss: 19.9346 - val_mae: 3.5539\n",
      "Epoch 7/20\n",
      "80/80 [==============================] - 1s 18ms/step - loss: 16.4727 - mae: 3.2758 - val_loss: 16.8438 - val_mae: 3.2603\n",
      "Epoch 8/20\n",
      "80/80 [==============================] - 1s 19ms/step - loss: 13.7282 - mae: 2.9805 - val_loss: 14.4736 - val_mae: 3.0218\n",
      "Epoch 9/20\n",
      "80/80 [==============================] - 1s 18ms/step - loss: 11.6695 - mae: 2.7409 - val_loss: 12.6695 - val_mae: 2.8364\n",
      "Epoch 10/20\n",
      "80/80 [==============================] - 1s 18ms/step - loss: 10.1247 - mae: 2.5473 - val_loss: 11.2943 - val_mae: 2.6867\n",
      "Epoch 11/20\n",
      "80/80 [==============================] - 1s 18ms/step - loss: 8.9393 - mae: 2.3873 - val_loss: 10.2331 - val_mae: 2.5624\n",
      "Epoch 12/20\n",
      "80/80 [==============================] - 1s 18ms/step - loss: 8.0411 - mae: 2.2589 - val_loss: 9.4013 - val_mae: 2.4622\n",
      "Epoch 13/20\n",
      "80/80 [==============================] - 1s 18ms/step - loss: 7.3496 - mae: 2.1607 - val_loss: 8.7461 - val_mae: 2.3820\n",
      "Epoch 14/20\n",
      "80/80 [==============================] - 1s 18ms/step - loss: 6.8237 - mae: 2.0862 - val_loss: 8.2323 - val_mae: 2.3195\n",
      "Epoch 15/20\n",
      "80/80 [==============================] - 2s 19ms/step - loss: 6.4276 - mae: 2.0250 - val_loss: 7.8245 - val_mae: 2.2671\n",
      "Epoch 16/20\n",
      "80/80 [==============================] - 1s 18ms/step - loss: 6.1254 - mae: 1.9759 - val_loss: 7.4929 - val_mae: 2.2198\n",
      "Epoch 17/20\n",
      "80/80 [==============================] - 1s 19ms/step - loss: 5.8802 - mae: 1.9349 - val_loss: 7.2185 - val_mae: 2.1773\n",
      "Epoch 18/20\n",
      "80/80 [==============================] - 1s 19ms/step - loss: 5.6771 - mae: 1.8986 - val_loss: 6.9848 - val_mae: 2.1386\n",
      "Epoch 19/20\n",
      "80/80 [==============================] - 1s 19ms/step - loss: 5.4948 - mae: 1.8684 - val_loss: 6.7850 - val_mae: 2.1035\n",
      "Epoch 20/20\n",
      "80/80 [==============================] - 1s 18ms/step - loss: 5.3455 - mae: 1.8409 - val_loss: 6.6067 - val_mae: 2.0714\n"
     ]
    }
   ],
   "source": [
    "model_lstm1.compile(optimizer='rmsprop', loss='mse', metrics=['mae'])\n",
    "history_lstm1 = model_lstm1.fit(train_dataset, epochs=n_epochs,\n",
    "                            validation_data=val_dataset)"
   ]
  },
  {
   "cell_type": "code",
   "execution_count": 23,
   "metadata": {
    "colab": {
     "base_uri": "https://localhost:8080/",
     "height": 279
    },
    "id": "hr-bgDUvXmvS",
    "outputId": "9462df20-d32e-45db-ed9d-af5786c6ebdd"
   },
   "outputs": [
    {
     "data": {
      "image/png": "[encoded data removed]",
      "text/plain": [
       "<Figure size 432x288 with 1 Axes>"
      ]
     },
     "metadata": {
      "needs_background": "light"
     },
     "output_type": "display_data"
    }
   ],
   "source": [
    "# Plot MAE cures for validation and training\n",
    "plot_hist_regression(history_lstm1, baseline)\n"
   ]
  },
  {
   "cell_type": "code",
   "execution_count": 24,
   "metadata": {
    "colab": {
     "base_uri": "https://localhost:8080/"
    },
    "id": "0fFZvXXUcQ67",
    "outputId": "8ac06bad-6b70-4bb6-e4f2-964253e5fa03"
   },
   "outputs": [
    {
     "name": "stdout",
     "output_type": "stream",
     "text": [
      "31/31 [==============================] - 0s 5ms/step - loss: 7.8713 - mae: 2.1887\n",
      "Test MAE = 2.19 degrees\n"
     ]
    }
   ],
   "source": [
    "print('Test MAE = %.2f degrees' % model_lstm1.evaluate(test_dataset)[1])"
   ]
  },
  {
   "cell_type": "markdown",
   "metadata": {
    "id": "bYSWwI1aXvwL"
   },
   "source": [
    "Success! We finally beat the common-sense baseline! The validation MAE now is 2.12 degrees, and the test MAE is 2.27.\n",
    "\n",
    "Why do LSTM layers work? Let's go back to the slides"
   ]
  },
  {
   "cell_type": "code",
   "execution_count": 25,
   "metadata": {
    "colab": {
     "base_uri": "https://localhost:8080/"
    },
    "id": "acSYakeOcokB",
    "outputId": "2fb126f8-5e20-4748-884a-0ca6b8670f03"
   },
   "outputs": [
    {
     "name": "stdout",
     "output_type": "stream",
     "text": [
      "Model: \"sequential_3\"\n",
      "_________________________________________________________________\n",
      " Layer (type)                Output Shape              Param #   \n",
      "=================================================================\n",
      " lstm_1 (LSTM)               (None, 20)                2160      \n",
      "                                                                 \n",
      " dropout (Dropout)           (None, 20)                0         \n",
      "                                                                 \n",
      " dense_4 (Dense)             (None, 1)                 21        \n",
      "                                                                 \n",
      "=================================================================\n",
      "Total params: 2,181\n",
      "Trainable params: 2,181\n",
      "Non-trainable params: 0\n",
      "_________________________________________________________________\n"
     ]
    }
   ],
   "source": [
    "# Adding dropout\n",
    "\n",
    "model_lstm2 = models.Sequential()\n",
    "model_lstm2.add(layers.LSTM(20, input_shape=(sequence_length, len(df.columns)-1), recurrent_dropout=0.25))\n",
    "model_lstm2.add(layers.Dropout(0.4))\n",
    "model_lstm2.add(layers.Dense(1))\n",
    "\n",
    "model_lstm2.summary()"
   ]
  },
  {
   "cell_type": "code",
   "execution_count": 26,
   "metadata": {
    "colab": {
     "base_uri": "https://localhost:8080/"
    },
    "id": "LvRnf9TWSWf9",
    "outputId": "af247ccc-7255-4ca4-b8db-192913fc835a"
   },
   "outputs": [
    {
     "name": "stdout",
     "output_type": "stream",
     "text": [
      "Epoch 1/20\n",
      "80/80 [==============================] - 8s 33ms/step - loss: 140.2120 - mae: 10.6394 - val_loss: 122.7454 - val_mae: 9.8513\n",
      "Epoch 2/20\n",
      "80/80 [==============================] - 2s 25ms/step - loss: 94.9831 - mae: 8.5778 - val_loss: 65.9790 - val_mae: 6.7048\n",
      "Epoch 3/20\n",
      "80/80 [==============================] - 2s 25ms/step - loss: 56.6868 - mae: 6.2397 - val_loss: 44.5281 - val_mae: 5.2531\n",
      "Epoch 4/20\n",
      "80/80 [==============================] - 2s 24ms/step - loss: 41.0861 - mae: 5.2575 - val_loss: 34.6043 - val_mae: 4.6146\n",
      "Epoch 5/20\n",
      "80/80 [==============================] - 2s 26ms/step - loss: 33.7286 - mae: 4.6990 - val_loss: 28.8908 - val_mae: 4.2565\n",
      "Epoch 6/20\n",
      "80/80 [==============================] - 2s 25ms/step - loss: 27.5971 - mae: 4.2595 - val_loss: 24.8875 - val_mae: 3.9862\n",
      "Epoch 7/20\n",
      "80/80 [==============================] - 2s 25ms/step - loss: 24.0688 - mae: 3.9830 - val_loss: 20.6491 - val_mae: 3.6035\n",
      "Epoch 8/20\n",
      "80/80 [==============================] - 2s 24ms/step - loss: 21.1832 - mae: 3.6529 - val_loss: 18.1020 - val_mae: 3.3944\n",
      "Epoch 9/20\n",
      "80/80 [==============================] - 2s 25ms/step - loss: 18.7016 - mae: 3.4200 - val_loss: 16.2863 - val_mae: 3.2214\n",
      "Epoch 10/20\n",
      "80/80 [==============================] - 2s 24ms/step - loss: 17.5145 - mae: 3.3115 - val_loss: 13.9799 - val_mae: 2.9691\n",
      "Epoch 11/20\n",
      "80/80 [==============================] - 2s 24ms/step - loss: 15.6935 - mae: 3.1523 - val_loss: 13.0031 - val_mae: 2.8840\n",
      "Epoch 12/20\n",
      "80/80 [==============================] - 2s 24ms/step - loss: 15.1423 - mae: 3.1073 - val_loss: 11.5737 - val_mae: 2.7171\n",
      "Epoch 13/20\n",
      "80/80 [==============================] - 2s 24ms/step - loss: 14.1756 - mae: 3.0047 - val_loss: 10.4131 - val_mae: 2.5761\n",
      "Epoch 14/20\n",
      "80/80 [==============================] - 2s 25ms/step - loss: 12.8483 - mae: 2.8456 - val_loss: 9.7163 - val_mae: 2.4842\n",
      "Epoch 15/20\n",
      "80/80 [==============================] - 2s 25ms/step - loss: 12.3550 - mae: 2.8027 - val_loss: 9.1508 - val_mae: 2.4134\n",
      "Epoch 16/20\n",
      "80/80 [==============================] - 2s 25ms/step - loss: 12.7804 - mae: 2.8379 - val_loss: 8.8754 - val_mae: 2.3907\n",
      "Epoch 17/20\n",
      "80/80 [==============================] - 2s 24ms/step - loss: 12.4747 - mae: 2.7951 - val_loss: 8.6485 - val_mae: 2.3693\n",
      "Epoch 18/20\n",
      "80/80 [==============================] - 2s 25ms/step - loss: 12.0462 - mae: 2.7276 - val_loss: 7.8635 - val_mae: 2.2416\n",
      "Epoch 19/20\n",
      "80/80 [==============================] - 2s 25ms/step - loss: 11.1906 - mae: 2.6316 - val_loss: 8.0411 - val_mae: 2.2875\n",
      "Epoch 20/20\n",
      "80/80 [==============================] - 2s 23ms/step - loss: 10.9687 - mae: 2.6346 - val_loss: 7.8713 - val_mae: 2.2656\n"
     ]
    }
   ],
   "source": [
    "model_lstm2.compile(optimizer='rmsprop', loss='mse', metrics=['mae'])\n",
    "history_lstm2 = model_lstm2.fit(train_dataset, epochs=n_epochs,\n",
    "                            validation_data=val_dataset)"
   ]
  },
  {
   "cell_type": "code",
   "execution_count": 27,
   "metadata": {
    "colab": {
     "base_uri": "https://localhost:8080/",
     "height": 279
    },
    "id": "cWpm-j9iSck1",
    "outputId": "cf66d132-b95f-456c-d6a4-86c9d28a5aef"
   },
   "outputs": [
    {
     "data": {
      "image/png": "[encoded data removed]",
      "text/plain": [
       "<Figure size 432x288 with 1 Axes>"
      ]
     },
     "metadata": {
      "needs_background": "light"
     },
     "output_type": "display_data"
    }
   ],
   "source": [
    "# Plot MAE cures for validation and training\n",
    "plot_hist_regression(history_lstm2, baseline)"
   ]
  },
  {
   "cell_type": "code",
   "execution_count": 28,
   "metadata": {
    "colab": {
     "base_uri": "https://localhost:8080/"
    },
    "id": "rAIQrQDVSmSM",
    "outputId": "8008e969-28d8-48e4-a402-720ada6f59a8"
   },
   "outputs": [
    {
     "name": "stdout",
     "output_type": "stream",
     "text": [
      "31/31 [==============================] - 0s 5ms/step - loss: 8.3687 - mae: 2.2851\n",
      "Test MAE = 2.29 degrees\n"
     ]
    }
   ],
   "source": [
    "print('Test MAE = %.2f degrees' % model_lstm2.evaluate(test_dataset)[1])"
   ]
  },
  {
   "cell_type": "markdown",
   "metadata": {
    "id": "H3OrpvE3S4gM"
   },
   "source": [
    "Note that validation set MAE is now lower than MAE on training set -- no longer overfitting. Validation MAE is 2.16 and test MAE is also 2.16.\n",
    "\n",
    "NOTE: This is a very simple dataset with very small differences in performance between different models.  You'll just have to take my word for it that *in general* this approach works. "
   ]
  },
  {
   "cell_type": "code",
   "execution_count": 29,
   "metadata": {
    "colab": {
     "base_uri": "https://localhost:8080/"
    },
    "id": "jq_ZDTttTX6_",
    "outputId": "3178ee55-e729-4191-b765-4e81bec2a291"
   },
   "outputs": [
    {
     "name": "stdout",
     "output_type": "stream",
     "text": [
      "Model: \"sequential_4\"\n",
      "_________________________________________________________________\n",
      " Layer (type)                Output Shape              Param #   \n",
      "=================================================================\n",
      " lstm_2 (LSTM)               (None, 14, 20)            2160      \n",
      "                                                                 \n",
      " lstm_3 (LSTM)               (None, 20)                3280      \n",
      "                                                                 \n",
      " dropout_1 (Dropout)         (None, 20)                0         \n",
      "                                                                 \n",
      " dense_5 (Dense)             (None, 1)                 21        \n",
      "                                                                 \n",
      "=================================================================\n",
      "Total params: 5,461\n",
      "Trainable params: 5,461\n",
      "Non-trainable params: 0\n",
      "_________________________________________________________________\n"
     ]
    }
   ],
   "source": [
    "# Performance in the previous figure can (maybe) still be improved\n",
    "# Let's try to add some more layers -- we can do this now that we're no longer overfitting\n",
    "\n",
    "model_lstm3 = models.Sequential()\n",
    "model_lstm3.add(layers.LSTM(20, input_shape=(sequence_length, len(df.columns)-1), recurrent_dropout=0.25, return_sequences=True))  # NEW!\n",
    "model_lstm3.add(layers.LSTM(20, input_shape=(sequence_length, len(df.columns)-1), recurrent_dropout=0.25))  # NEW!!\n",
    "model_lstm3.add(layers.Dropout(0.4))\n",
    "model_lstm3.add(layers.Dense(1))\n",
    "model_lstm3.summary()"
   ]
  },
  {
   "cell_type": "code",
   "execution_count": 30,
   "metadata": {
    "colab": {
     "base_uri": "https://localhost:8080/"
    },
    "id": "9xQXChtNUxzh",
    "outputId": "47adf7db-d1ea-4cbe-f2b2-2ea09bbbb96f"
   },
   "outputs": [
    {
     "name": "stdout",
     "output_type": "stream",
     "text": [
      "Epoch 1/60\n",
      "80/80 [==============================] - 13s 53ms/step - loss: 119.8030 - mae: 9.7813 - val_loss: 76.5049 - val_mae: 7.3525\n",
      "Epoch 2/60\n",
      "80/80 [==============================] - 3s 39ms/step - loss: 60.8581 - mae: 6.5014 - val_loss: 47.1990 - val_mae: 5.4178\n",
      "Epoch 3/60\n",
      "80/80 [==============================] - 3s 41ms/step - loss: 43.8742 - mae: 5.4040 - val_loss: 37.1352 - val_mae: 4.7979\n",
      "Epoch 4/60\n",
      "80/80 [==============================] - 3s 40ms/step - loss: 35.0483 - mae: 4.7667 - val_loss: 30.7670 - val_mae: 4.3913\n",
      "Epoch 5/60\n",
      "80/80 [==============================] - 3s 38ms/step - loss: 29.2043 - mae: 4.3459 - val_loss: 26.4442 - val_mae: 4.1157\n",
      "Epoch 6/60\n",
      "80/80 [==============================] - 3s 40ms/step - loss: 24.7966 - mae: 3.9674 - val_loss: 23.2828 - val_mae: 3.9026\n",
      "Epoch 7/60\n",
      "80/80 [==============================] - 3s 40ms/step - loss: 21.1992 - mae: 3.6577 - val_loss: 19.1228 - val_mae: 3.4880\n",
      "Epoch 8/60\n",
      "80/80 [==============================] - 3s 41ms/step - loss: 19.5426 - mae: 3.4978 - val_loss: 16.7644 - val_mae: 3.2632\n",
      "Epoch 9/60\n",
      "80/80 [==============================] - 3s 40ms/step - loss: 17.8162 - mae: 3.3517 - val_loss: 15.5190 - val_mae: 3.1628\n",
      "Epoch 10/60\n",
      "80/80 [==============================] - 3s 41ms/step - loss: 15.9813 - mae: 3.1680 - val_loss: 13.4857 - val_mae: 2.9328\n",
      "Epoch 11/60\n",
      "80/80 [==============================] - 3s 38ms/step - loss: 14.3428 - mae: 3.0307 - val_loss: 12.5178 - val_mae: 2.8384\n",
      "Epoch 12/60\n",
      "80/80 [==============================] - 3s 38ms/step - loss: 13.8868 - mae: 2.9955 - val_loss: 10.9999 - val_mae: 2.6531\n",
      "Epoch 13/60\n",
      "80/80 [==============================] - 3s 39ms/step - loss: 12.3406 - mae: 2.8052 - val_loss: 10.4148 - val_mae: 2.5934\n",
      "Epoch 14/60\n",
      "80/80 [==============================] - 3s 38ms/step - loss: 12.9181 - mae: 2.8440 - val_loss: 10.3245 - val_mae: 2.6011\n",
      "Epoch 15/60\n",
      "80/80 [==============================] - 3s 37ms/step - loss: 12.3121 - mae: 2.7582 - val_loss: 9.2722 - val_mae: 2.4547\n",
      "Epoch 16/60\n",
      "80/80 [==============================] - 3s 41ms/step - loss: 12.3778 - mae: 2.7919 - val_loss: 8.6276 - val_mae: 2.3639\n",
      "Epoch 17/60\n",
      "80/80 [==============================] - 3s 38ms/step - loss: 11.2330 - mae: 2.6279 - val_loss: 8.4775 - val_mae: 2.3553\n",
      "Epoch 18/60\n",
      "80/80 [==============================] - 3s 38ms/step - loss: 10.4285 - mae: 2.5900 - val_loss: 8.1043 - val_mae: 2.2945\n",
      "Epoch 19/60\n",
      "80/80 [==============================] - 3s 42ms/step - loss: 10.9685 - mae: 2.6433 - val_loss: 7.9789 - val_mae: 2.2832\n",
      "Epoch 20/60\n",
      "80/80 [==============================] - 3s 39ms/step - loss: 10.0205 - mae: 2.5297 - val_loss: 7.7094 - val_mae: 2.2385\n",
      "Epoch 21/60\n",
      "80/80 [==============================] - 3s 33ms/step - loss: 10.3260 - mae: 2.5418 - val_loss: 8.1366 - val_mae: 2.3037\n",
      "Epoch 22/60\n",
      "80/80 [==============================] - 3s 39ms/step - loss: 9.9579 - mae: 2.5028 - val_loss: 7.6127 - val_mae: 2.2280\n",
      "Epoch 23/60\n",
      "80/80 [==============================] - 3s 40ms/step - loss: 9.9070 - mae: 2.4811 - val_loss: 7.1315 - val_mae: 2.1485\n",
      "Epoch 24/60\n",
      "80/80 [==============================] - 3s 37ms/step - loss: 9.7657 - mae: 2.5018 - val_loss: 6.7014 - val_mae: 2.0689\n",
      "Epoch 25/60\n",
      "80/80 [==============================] - 3s 43ms/step - loss: 9.5022 - mae: 2.4268 - val_loss: 6.5695 - val_mae: 2.0472\n",
      "Epoch 26/60\n",
      "80/80 [==============================] - 3s 42ms/step - loss: 8.9054 - mae: 2.3797 - val_loss: 6.6434 - val_mae: 2.0670\n",
      "Epoch 27/60\n",
      "80/80 [==============================] - 3s 43ms/step - loss: 9.6600 - mae: 2.4779 - val_loss: 6.6940 - val_mae: 2.0613\n"
     ]
    }
   ],
   "source": [
    "model_lstm3.compile(optimizer='rmsprop', loss='mse', metrics=['mae'])\n",
    "\n",
    "callbacks = [EarlyStopping(monitor='val_mae', patience=2)]\n",
    "\n",
    "history_lstm3 = model_lstm3.fit(train_dataset, epochs=60,  # increased number of epochs\n",
    "                            validation_data=val_dataset,\n",
    "                            callbacks=callbacks)  # but added early stopping callback\n"
   ]
  },
  {
   "cell_type": "code",
   "execution_count": 31,
   "metadata": {
    "colab": {
     "base_uri": "https://localhost:8080/",
     "height": 314
    },
    "id": "PtFfB3YaU4k3",
    "outputId": "eb5fd379-362d-4cb4-d846-d6d264dccab1"
   },
   "outputs": [
    {
     "data": {
      "image/png": "[encoded data removed]",
      "text/plain": [
       "<Figure size 432x288 with 1 Axes>"
      ]
     },
     "metadata": {
      "needs_background": "light"
     },
     "output_type": "display_data"
    },
    {
     "name": "stdout",
     "output_type": "stream",
     "text": [
      "31/31 [==============================] - 0s 7ms/step - loss: 6.7333 - mae: 1.9857\n",
      "Test MAE = 1.99 degrees\n"
     ]
    }
   ],
   "source": [
    "# Plot MAE cures for validation and training\n",
    "plot_hist_regression(history_lstm3, baseline)\n",
    "print('Test MAE = %.2f degrees' % model_lstm3.evaluate(test_dataset)[1])"
   ]
  },
  {
   "cell_type": "markdown",
   "metadata": {
    "id": "eUJqRqp1XJnL"
   },
   "source": [
    "Validation MAE = 1.92 degrees\n",
    "\n",
    "Test MAE = 1.89 degrees\n"
   ]
  },
  {
   "cell_type": "markdown",
   "metadata": {
    "id": "zGEuNqw2csXj"
   },
   "source": [
    "# Text"
   ]
  },
  {
   "cell_type": "markdown",
   "metadata": {
    "id": "dtv0EjsTbwvm"
   },
   "source": [
    "## Data prep\n",
    "\n",
    "We'll try to predict whether the review for a movie is positive or negative looking only at the text of the review.\n",
    "\n",
    "We'll use the IMDB text dataset for this task, which is available on `keras.datasets` and described [here](https://keras.io/api/datasets/imdb/). \n",
    "\n",
    "We'll merge the training and test sets and use 60% for training, 20% for validation, and 20% for testing.\n",
    "\n",
    "\n",
    "As this is a binary classificationp problem, we'll use the binary cross entropy loss function. We will keep track of accuracy when training and evaluating the model.\n"
   ]
  },
  {
   "cell_type": "code",
   "execution_count": 32,
   "metadata": {
    "id": "i-mH-8IGwGo1"
   },
   "outputs": [],
   "source": [
    "def plot_hist_classif(hist):\n",
    "  n_ = len(hist.history['accuracy'])\n",
    "  plt.plot(range(1, n_+1), 100*np.asarray(hist.history['accuracy']), 'bo', label='Accuracy on training set')\n",
    "  plt.plot(range(1, n_+1), 100*np.asarray(hist.history['val_accuracy']), 'b', label='Accuracy on validation set')\n",
    "  plt.legend()\n",
    "  plt.xlabel(\"Epoch\") \n",
    "  plt.ylabel(\"Accuracy\")\n",
    "  plt.ylim(0, 100)\n",
    "  plt.axhline(y=50)\n",
    "  plt.show()\n"
   ]
  },
  {
   "cell_type": "code",
   "execution_count": 33,
   "metadata": {
    "colab": {
     "base_uri": "https://localhost:8080/"
    },
    "id": "4TW3Vg49n5V-",
    "outputId": "3807222c-72f1-48b9-ec7e-a45788dc5790"
   },
   "outputs": [
    {
     "name": "stdout",
     "output_type": "stream",
     "text": [
      "Loading data...\n",
      "Downloading data from https://storage.googleapis.com/tensorflow/tf-keras-datasets/imdb.npz\n",
      "17465344/17464789 [==============================] - 3s 0us/step\n",
      "17473536/17464789 [==============================] - 3s 0us/step\n",
      "25000 train sequences (25000,)\n",
      "25000 test sequences (25000,)\n"
     ]
    }
   ],
   "source": [
    "max_features = 15000  # only consider the top 15k words\n",
    "maxlen = 500  # first 500 words of each review\n",
    "batch_size = 32\n",
    "\n",
    "print('Loading data...')\n",
    "# Load dataset\n",
    "(x_train, y_train), (x_test, y_test) = keras.datasets.imdb.load_data(num_words=max_features)\n",
    "print(len(x_train), 'train sequences', x_train.shape)\n",
    "print(len(x_test), 'test sequences', x_test.shape)"
   ]
  },
  {
   "cell_type": "code",
   "execution_count": 34,
   "metadata": {
    "colab": {
     "base_uri": "https://localhost:8080/"
    },
    "id": "8ApTb-jYtSOm",
    "outputId": "f51644cd-02a1-4c35-d903-5fc0d68a3b9b"
   },
   "outputs": [
    {
     "name": "stdout",
     "output_type": "stream",
     "text": [
      "0.5\n",
      "0.5\n"
     ]
    }
   ],
   "source": [
    "# How balanced is this dataset?\n",
    "print(np.sum(y_train)/len(y_train))\n",
    "print(np.sum(y_test)/len(y_test))"
   ]
  },
  {
   "cell_type": "code",
   "execution_count": 35,
   "metadata": {
    "colab": {
     "base_uri": "https://localhost:8080/"
    },
    "id": "Z53Fbicqr8tm",
    "outputId": "4d7c9122-1eca-46cb-a708-cfe4681d93c8"
   },
   "outputs": [
    {
     "name": "stdout",
     "output_type": "stream",
     "text": [
      "(50000,) (50000,)\n",
      "30000 train sequences (30000,)\n",
      "10000 validation sequences (10000,)\n",
      "10000 test sequences (10000,)\n"
     ]
    }
   ],
   "source": [
    "# Merge the two datasets and divide: 60% for training, 20% validation, 20% test\n",
    "x_, y_ = np.concatenate((x_train, x_test)), np.concatenate((y_train, y_test))\n",
    "print(x_.shape, y_.shape)\n",
    "x_train, x_test, y_train, y_test = train_test_split(x_, y_, test_size=0.4, random_state=10)  # 60/40 split\n",
    "x_val, x_test, y_val, y_test = train_test_split(x_test, y_test, test_size=0.5, random_state=10)  # 50/50 split\n",
    "print(len(x_train), 'train sequences', x_train.shape)\n",
    "print(len(x_val), 'validation sequences', x_val.shape)\n",
    "print(len(x_test), 'test sequences', x_test.shape)"
   ]
  },
  {
   "cell_type": "code",
   "execution_count": 36,
   "metadata": {
    "colab": {
     "base_uri": "https://localhost:8080/"
    },
    "id": "5v_Hy-r8o8pR",
    "outputId": "511de152-8560-4580-efce-a7fbdb3175d5"
   },
   "outputs": [
    {
     "data": {
      "text/plain": [
       "[1, 11531, 186, 8, 28, 6, 6482, 7, 269, 4042]"
      ]
     },
     "execution_count": 36,
     "metadata": {},
     "output_type": "execute_result"
    }
   ],
   "source": [
    "x_train[0][:10]  # numbers!!"
   ]
  },
  {
   "cell_type": "code",
   "execution_count": 37,
   "metadata": {
    "colab": {
     "base_uri": "https://localhost:8080/",
     "height": 105
    },
    "id": "rgEgNSLBpFwh",
    "outputId": "a820c43a-3177-45fc-bef4-10a804a18c86"
   },
   "outputs": [
    {
     "name": "stdout",
     "output_type": "stream",
     "text": [
      "Downloading data from https://storage.googleapis.com/tensorflow/tf-keras-datasets/imdb_word_index.json\n",
      "1646592/1641221 [==============================] - 0s 0us/step\n",
      "1654784/1641221 [==============================] - 0s 0us/step\n"
     ]
    },
    {
     "data": {
      "text/plain": [
       "\"the lilly horror in one is fatale br looks meaningless in bronson be showing as you debut film ample to and ingredients zombi ample they for series and thought she's all manipulate and believing in j show look early last quote desire tight interesting that's kind out is far shelter but of frame br and\""
      ]
     },
     "execution_count": 37,
     "metadata": {},
     "output_type": "execute_result"
    }
   ],
   "source": [
    "# We can explore what one of the reviews looks like at this point.\n",
    "\n",
    "# Retrieve the word index file that maps words to indices\n",
    "word_index = keras.datasets.imdb.get_word_index()\n",
    "# Reverse the word index to obtain a dict mapping indices to words (which is what we have)\n",
    "inverted_word_index = dict((i, word) for (word, i) in word_index.items())\n",
    "# Decode the first sequence in the dataset\n",
    "decoded_sequence = \" \".join(inverted_word_index[i] for i in x_train[0])\n",
    "decoded_sequence"
   ]
  },
  {
   "cell_type": "code",
   "execution_count": 38,
   "metadata": {
    "colab": {
     "base_uri": "https://localhost:8080/"
    },
    "id": "ibmO0V-gcthG",
    "outputId": "9422d91d-b296-497b-b038-964ab28ab33c"
   },
   "outputs": [
    {
     "name": "stdout",
     "output_type": "stream",
     "text": [
      "Pad sequences\n",
      "x_train shape: (30000, 500)\n",
      "x_val shape: (10000, 500)\n",
      "x_test shape: (10000, 500)\n"
     ]
    }
   ],
   "source": [
    "# Let's ensure all sequences have the same length through padding\n",
    "# - shorter reviews are padded with 0's\n",
    "# - longer reviews are cut\n",
    "print('Pad sequences')\n",
    "x_train = keras.preprocessing.sequence.pad_sequences(x_train, maxlen=maxlen)\n",
    "x_val = keras.preprocessing.sequence.pad_sequences(x_val, maxlen=maxlen)\n",
    "x_test = keras.preprocessing.sequence.pad_sequences(x_test, maxlen=maxlen)\n",
    "print('x_train shape:', x_train.shape)\n",
    "print('x_val shape:', x_val.shape)\n",
    "print('x_test shape:', x_test.shape)"
   ]
  },
  {
   "cell_type": "code",
   "execution_count": 39,
   "metadata": {
    "colab": {
     "base_uri": "https://localhost:8080/"
    },
    "id": "sBpQpwBAk44H",
    "outputId": "eb86c1c0-0cd1-479e-a4ef-3f58cbf6abb0"
   },
   "outputs": [
    {
     "name": "stdout",
     "output_type": "stream",
     "text": [
      "Model: \"sequential_5\"\n",
      "_________________________________________________________________\n",
      " Layer (type)                Output Shape              Param #   \n",
      "=================================================================\n",
      " embedding (Embedding)       (None, 500, 128)          1920000   \n",
      "                                                                 \n",
      " dense_6 (Dense)             (None, 500, 64)           8256      \n",
      "                                                                 \n",
      " dropout_2 (Dropout)         (None, 500, 64)           0         \n",
      "                                                                 \n",
      " dense_7 (Dense)             (None, 500, 64)           4160      \n",
      "                                                                 \n",
      " dropout_3 (Dropout)         (None, 500, 64)           0         \n",
      "                                                                 \n",
      " flatten_1 (Flatten)         (None, 32000)             0         \n",
      "                                                                 \n",
      " dense_8 (Dense)             (None, 1)                 32001     \n",
      "                                                                 \n",
      "=================================================================\n",
      "Total params: 1,964,417\n",
      "Trainable params: 1,964,417\n",
      "Non-trainable params: 0\n",
      "_________________________________________________________________\n"
     ]
    }
   ],
   "source": [
    "# Basic feedforward model\n",
    "model = models.Sequential()\n",
    "model.add(layers.Embedding(max_features, 128, input_length=maxlen))\n",
    "model.add(layers.Dense(64, activation='relu'))\n",
    "model.add(layers.Dropout(0.5))\n",
    "model.add(layers.Dense(64, activation='relu'))\n",
    "model.add(layers.Dropout(0.5))\n",
    "model.add(layers.Flatten())\n",
    "model.add(layers.Dense(1, activation=\"sigmoid\"))\n",
    "model.summary()"
   ]
  },
  {
   "cell_type": "code",
   "execution_count": 40,
   "metadata": {
    "colab": {
     "base_uri": "https://localhost:8080/"
    },
    "id": "-8c7tCS5vrC3",
    "outputId": "aab08477-7bd5-4394-b052-3faa0d266096"
   },
   "outputs": [
    {
     "name": "stdout",
     "output_type": "stream",
     "text": [
      "Epoch 1/20\n",
      "938/938 [==============================] - 89s 93ms/step - loss: 0.4427 - accuracy: 0.7616 - val_loss: 0.2647 - val_accuracy: 0.8919\n",
      "Epoch 2/20\n",
      "938/938 [==============================] - 87s 92ms/step - loss: 0.2437 - accuracy: 0.9045 - val_loss: 0.2599 - val_accuracy: 0.8966\n",
      "Epoch 3/20\n",
      "938/938 [==============================] - 88s 94ms/step - loss: 0.2102 - accuracy: 0.9171 - val_loss: 0.2590 - val_accuracy: 0.8969\n",
      "Epoch 4/20\n",
      "938/938 [==============================] - 90s 96ms/step - loss: 0.1906 - accuracy: 0.9268 - val_loss: 0.2589 - val_accuracy: 0.8991\n",
      "Epoch 5/20\n",
      "938/938 [==============================] - 88s 94ms/step - loss: 0.1785 - accuracy: 0.9306 - val_loss: 0.2657 - val_accuracy: 0.8959\n",
      "Epoch 6/20\n",
      "938/938 [==============================] - 89s 94ms/step - loss: 0.1675 - accuracy: 0.9368 - val_loss: 0.4255 - val_accuracy: 0.8415\n",
      "Epoch 7/20\n",
      "938/938 [==============================] - 88s 94ms/step - loss: 0.1586 - accuracy: 0.9408 - val_loss: 0.3036 - val_accuracy: 0.8838\n",
      "Epoch 8/20\n",
      "938/938 [==============================] - 78s 83ms/step - loss: 0.1543 - accuracy: 0.9412 - val_loss: 0.2821 - val_accuracy: 0.8912\n",
      "Epoch 9/20\n",
      "938/938 [==============================] - 76s 81ms/step - loss: 0.1477 - accuracy: 0.9435 - val_loss: 0.3605 - val_accuracy: 0.8668\n",
      "Epoch 10/20\n",
      "938/938 [==============================] - 76s 81ms/step - loss: 0.1417 - accuracy: 0.9468 - val_loss: 0.2957 - val_accuracy: 0.8878\n",
      "Epoch 11/20\n",
      "938/938 [==============================] - 76s 81ms/step - loss: 0.1334 - accuracy: 0.9507 - val_loss: 0.3345 - val_accuracy: 0.8739\n",
      "Epoch 12/20\n",
      "938/938 [==============================] - 76s 81ms/step - loss: 0.1284 - accuracy: 0.9524 - val_loss: 0.3246 - val_accuracy: 0.8822\n",
      "Epoch 13/20\n",
      "938/938 [==============================] - 76s 81ms/step - loss: 0.1220 - accuracy: 0.9553 - val_loss: 0.3691 - val_accuracy: 0.8758\n",
      "Epoch 14/20\n",
      "938/938 [==============================] - 77s 82ms/step - loss: 0.1210 - accuracy: 0.9547 - val_loss: 0.4788 - val_accuracy: 0.8418\n",
      "Epoch 15/20\n",
      "938/938 [==============================] - 77s 83ms/step - loss: 0.1139 - accuracy: 0.9593 - val_loss: 0.3468 - val_accuracy: 0.8830\n",
      "Epoch 16/20\n",
      "938/938 [==============================] - 73s 77ms/step - loss: 0.1058 - accuracy: 0.9618 - val_loss: 0.3452 - val_accuracy: 0.8866\n",
      "Epoch 17/20\n",
      "938/938 [==============================] - 76s 81ms/step - loss: 0.1020 - accuracy: 0.9635 - val_loss: 0.3606 - val_accuracy: 0.8829\n",
      "Epoch 18/20\n",
      "938/938 [==============================] - 78s 83ms/step - loss: 0.0986 - accuracy: 0.9647 - val_loss: 0.5096 - val_accuracy: 0.8547\n",
      "Epoch 19/20\n",
      "938/938 [==============================] - 76s 81ms/step - loss: 0.0950 - accuracy: 0.9665 - val_loss: 0.3744 - val_accuracy: 0.8783\n",
      "Epoch 20/20\n",
      "938/938 [==============================] - 75s 80ms/step - loss: 0.0952 - accuracy: 0.9668 - val_loss: 0.4702 - val_accuracy: 0.8593\n"
     ]
    }
   ],
   "source": [
    "model.compile(optimizer=\"rmsprop\", loss=\"binary_crossentropy\", metrics=[\"accuracy\"])\n",
    "history = model.fit(x_train, y_train, batch_size=batch_size, epochs=20, validation_data=(x_val, y_val))"
   ]
  },
  {
   "cell_type": "code",
   "execution_count": 41,
   "metadata": {
    "colab": {
     "base_uri": "https://localhost:8080/",
     "height": 318
    },
    "id": "dKBVw5mHv_oX",
    "outputId": "01b16817-5689-4137-d46b-8275b712e986"
   },
   "outputs": [
    {
     "data": {
      "image/png": "[encoded data removed]",
      "text/plain": [
       "<Figure size 432x288 with 1 Axes>"
      ]
     },
     "metadata": {
      "needs_background": "light"
     },
     "output_type": "display_data"
    },
    {
     "name": "stdout",
     "output_type": "stream",
     "text": [
      "313/313 [==============================] - 2s 8ms/step - loss: 0.4629 - accuracy: 0.8610\n",
      "Test Accuracy = 0.86\n"
     ]
    }
   ],
   "source": [
    "plot_hist_classif(history)\n",
    "print('Test Accuracy = %.2f' % model.evaluate(x_test, y_test)[1])  # overfitting!"
   ]
  },
  {
   "cell_type": "code",
   "execution_count": 42,
   "metadata": {
    "colab": {
     "base_uri": "https://localhost:8080/"
    },
    "id": "Ieh7Wl9Pwh8V",
    "outputId": "7e4d2bbc-b62c-407d-ee81-e5d62d9caa3a"
   },
   "outputs": [
    {
     "name": "stdout",
     "output_type": "stream",
     "text": [
      "Model: \"sequential_6\"\n",
      "_________________________________________________________________\n",
      " Layer (type)                Output Shape              Param #   \n",
      "=================================================================\n",
      " embedding_1 (Embedding)     (None, None, 64)          960000    \n",
      "                                                                 \n",
      " lstm_4 (LSTM)               (None, 128)               98816     \n",
      "                                                                 \n",
      " dropout_4 (Dropout)         (None, 128)               0         \n",
      "                                                                 \n",
      " dense_9 (Dense)             (None, 1)                 129       \n",
      "                                                                 \n",
      "=================================================================\n",
      "Total params: 1,058,945\n",
      "Trainable params: 1,058,945\n",
      "Non-trainable params: 0\n",
      "_________________________________________________________________\n"
     ]
    }
   ],
   "source": [
    "# Let's try an RNN\n",
    "model = models.Sequential()\n",
    "model.add(layers.Embedding(max_features, 64))\n",
    "model.add(layers.LSTM(128, return_sequences=False))\n",
    "model.add(layers.Dropout(0.5))\n",
    "model.add(layers.Dense(1, activation=\"sigmoid\"))\n",
    "model.compile(optimizer=\"rmsprop\", loss=\"binary_crossentropy\", metrics=[\"accuracy\"])\n",
    "model.summary()"
   ]
  },
  {
   "cell_type": "code",
   "execution_count": 43,
   "metadata": {
    "colab": {
     "base_uri": "https://localhost:8080/",
     "height": 561
    },
    "id": "Sd54xZMmxKBQ",
    "outputId": "96c092e9-eea3-4080-b720-31885daecd83"
   },
   "outputs": [
    {
     "name": "stdout",
     "output_type": "stream",
     "text": [
      "Epoch 1/20\n",
      "938/938 [==============================] - 337s 356ms/step - loss: 0.4168 - accuracy: 0.8171 - val_loss: 0.3130 - val_accuracy: 0.8744\n",
      "Epoch 2/20\n",
      "938/938 [==============================] - 358s 381ms/step - loss: 0.2730 - accuracy: 0.8964 - val_loss: 0.5029 - val_accuracy: 0.8297\n",
      "Epoch 3/20\n",
      "781/938 [=======================>......] - ETA: 53s - loss: 0.2428 - accuracy: 0.9102"
     ]
    },
    {
     "ename": "KeyboardInterrupt",
     "evalue": "",
     "output_type": "error",
     "traceback": [
      "\u001b[1;31m---------------------------------------------------------------------------\u001b[0m",
      "\u001b[1;31mKeyboardInterrupt\u001b[0m                         Traceback (most recent call last)",
      "\u001b[1;32m<ipython-input-43-547cedb2063e>\u001b[0m in \u001b[0;36m<module>\u001b[1;34m\u001b[0m\n\u001b[0;32m      2\u001b[0m \u001b[1;31m# N.B: It's actually much faster to train WITHOUT A GPU!!\u001b[0m\u001b[1;33m\u001b[0m\u001b[1;33m\u001b[0m\u001b[1;33m\u001b[0m\u001b[0m\n\u001b[0;32m      3\u001b[0m \u001b[0mcallbacks\u001b[0m \u001b[1;33m=\u001b[0m \u001b[1;33m[\u001b[0m\u001b[0mEarlyStopping\u001b[0m\u001b[1;33m(\u001b[0m\u001b[0mmonitor\u001b[0m\u001b[1;33m=\u001b[0m\u001b[1;34m'val_accuracy'\u001b[0m\u001b[1;33m,\u001b[0m \u001b[0mpatience\u001b[0m\u001b[1;33m=\u001b[0m\u001b[1;36m2\u001b[0m\u001b[1;33m)\u001b[0m\u001b[1;33m]\u001b[0m\u001b[1;33m\u001b[0m\u001b[1;33m\u001b[0m\u001b[0m\n\u001b[1;32m----> 4\u001b[1;33m \u001b[0mhistory\u001b[0m \u001b[1;33m=\u001b[0m \u001b[0mmodel\u001b[0m\u001b[1;33m.\u001b[0m\u001b[0mfit\u001b[0m\u001b[1;33m(\u001b[0m\u001b[0mx_train\u001b[0m\u001b[1;33m,\u001b[0m \u001b[0my_train\u001b[0m\u001b[1;33m,\u001b[0m \u001b[0mbatch_size\u001b[0m\u001b[1;33m=\u001b[0m\u001b[0mbatch_size\u001b[0m\u001b[1;33m,\u001b[0m \u001b[0mepochs\u001b[0m\u001b[1;33m=\u001b[0m\u001b[1;36m20\u001b[0m\u001b[1;33m,\u001b[0m \u001b[0mvalidation_data\u001b[0m\u001b[1;33m=\u001b[0m\u001b[1;33m(\u001b[0m\u001b[0mx_val\u001b[0m\u001b[1;33m,\u001b[0m \u001b[0my_val\u001b[0m\u001b[1;33m)\u001b[0m\u001b[1;33m,\u001b[0m \u001b[0mcallbacks\u001b[0m\u001b[1;33m=\u001b[0m\u001b[0mcallbacks\u001b[0m\u001b[1;33m)\u001b[0m\u001b[1;33m\u001b[0m\u001b[1;33m\u001b[0m\u001b[0m\n\u001b[0m\u001b[0;32m      5\u001b[0m \u001b[0mplot_hist_classif\u001b[0m\u001b[1;33m(\u001b[0m\u001b[0mhistory\u001b[0m\u001b[1;33m)\u001b[0m\u001b[1;33m\u001b[0m\u001b[1;33m\u001b[0m\u001b[0m\n\u001b[0;32m      6\u001b[0m \u001b[0mprint\u001b[0m\u001b[1;33m(\u001b[0m\u001b[1;34m'Test Accuracy = %.2f'\u001b[0m \u001b[1;33m%\u001b[0m \u001b[0mmodel\u001b[0m\u001b[1;33m.\u001b[0m\u001b[0mevaluate\u001b[0m\u001b[1;33m(\u001b[0m\u001b[0mx_test\u001b[0m\u001b[1;33m,\u001b[0m \u001b[0my_test\u001b[0m\u001b[1;33m)\u001b[0m\u001b[1;33m[\u001b[0m\u001b[1;36m1\u001b[0m\u001b[1;33m]\u001b[0m\u001b[1;33m)\u001b[0m\u001b[1;33m\u001b[0m\u001b[1;33m\u001b[0m\u001b[0m\n",
      "\u001b[1;32m~\\anaconda3\\lib\\site-packages\\keras\\utils\\traceback_utils.py\u001b[0m in \u001b[0;36merror_handler\u001b[1;34m(*args, **kwargs)\u001b[0m\n\u001b[0;32m     62\u001b[0m     \u001b[0mfiltered_tb\u001b[0m \u001b[1;33m=\u001b[0m \u001b[1;32mNone\u001b[0m\u001b[1;33m\u001b[0m\u001b[1;33m\u001b[0m\u001b[0m\n\u001b[0;32m     63\u001b[0m     \u001b[1;32mtry\u001b[0m\u001b[1;33m:\u001b[0m\u001b[1;33m\u001b[0m\u001b[1;33m\u001b[0m\u001b[0m\n\u001b[1;32m---> 64\u001b[1;33m       \u001b[1;32mreturn\u001b[0m \u001b[0mfn\u001b[0m\u001b[1;33m(\u001b[0m\u001b[1;33m*\u001b[0m\u001b[0margs\u001b[0m\u001b[1;33m,\u001b[0m \u001b[1;33m**\u001b[0m\u001b[0mkwargs\u001b[0m\u001b[1;33m)\u001b[0m\u001b[1;33m\u001b[0m\u001b[1;33m\u001b[0m\u001b[0m\n\u001b[0m\u001b[0;32m     65\u001b[0m     \u001b[1;32mexcept\u001b[0m \u001b[0mException\u001b[0m \u001b[1;32mas\u001b[0m \u001b[0me\u001b[0m\u001b[1;33m:\u001b[0m  \u001b[1;31m# pylint: disable=broad-except\u001b[0m\u001b[1;33m\u001b[0m\u001b[1;33m\u001b[0m\u001b[0m\n\u001b[0;32m     66\u001b[0m       \u001b[0mfiltered_tb\u001b[0m \u001b[1;33m=\u001b[0m \u001b[0m_process_traceback_frames\u001b[0m\u001b[1;33m(\u001b[0m\u001b[0me\u001b[0m\u001b[1;33m.\u001b[0m\u001b[0m__traceback__\u001b[0m\u001b[1;33m)\u001b[0m\u001b[1;33m\u001b[0m\u001b[1;33m\u001b[0m\u001b[0m\n",
      "\u001b[1;32m~\\anaconda3\\lib\\site-packages\\keras\\engine\\training.py\u001b[0m in \u001b[0;36mfit\u001b[1;34m(self, x, y, batch_size, epochs, verbose, callbacks, validation_split, validation_data, shuffle, class_weight, sample_weight, initial_epoch, steps_per_epoch, validation_steps, validation_batch_size, validation_freq, max_queue_size, workers, use_multiprocessing)\u001b[0m\n\u001b[0;32m   1382\u001b[0m                 _r=1):\n\u001b[0;32m   1383\u001b[0m               \u001b[0mcallbacks\u001b[0m\u001b[1;33m.\u001b[0m\u001b[0mon_train_batch_begin\u001b[0m\u001b[1;33m(\u001b[0m\u001b[0mstep\u001b[0m\u001b[1;33m)\u001b[0m\u001b[1;33m\u001b[0m\u001b[1;33m\u001b[0m\u001b[0m\n\u001b[1;32m-> 1384\u001b[1;33m               \u001b[0mtmp_logs\u001b[0m \u001b[1;33m=\u001b[0m \u001b[0mself\u001b[0m\u001b[1;33m.\u001b[0m\u001b[0mtrain_function\u001b[0m\u001b[1;33m(\u001b[0m\u001b[0miterator\u001b[0m\u001b[1;33m)\u001b[0m\u001b[1;33m\u001b[0m\u001b[1;33m\u001b[0m\u001b[0m\n\u001b[0m\u001b[0;32m   1385\u001b[0m               \u001b[1;32mif\u001b[0m \u001b[0mdata_handler\u001b[0m\u001b[1;33m.\u001b[0m\u001b[0mshould_sync\u001b[0m\u001b[1;33m:\u001b[0m\u001b[1;33m\u001b[0m\u001b[1;33m\u001b[0m\u001b[0m\n\u001b[0;32m   1386\u001b[0m                 \u001b[0mcontext\u001b[0m\u001b[1;33m.\u001b[0m\u001b[0masync_wait\u001b[0m\u001b[1;33m(\u001b[0m\u001b[1;33m)\u001b[0m\u001b[1;33m\u001b[0m\u001b[1;33m\u001b[0m\u001b[0m\n",
      "\u001b[1;32m~\\anaconda3\\lib\\site-packages\\tensorflow\\python\\util\\traceback_utils.py\u001b[0m in \u001b[0;36merror_handler\u001b[1;34m(*args, **kwargs)\u001b[0m\n\u001b[0;32m    148\u001b[0m     \u001b[0mfiltered_tb\u001b[0m \u001b[1;33m=\u001b[0m \u001b[1;32mNone\u001b[0m\u001b[1;33m\u001b[0m\u001b[1;33m\u001b[0m\u001b[0m\n\u001b[0;32m    149\u001b[0m     \u001b[1;32mtry\u001b[0m\u001b[1;33m:\u001b[0m\u001b[1;33m\u001b[0m\u001b[1;33m\u001b[0m\u001b[0m\n\u001b[1;32m--> 150\u001b[1;33m       \u001b[1;32mreturn\u001b[0m \u001b[0mfn\u001b[0m\u001b[1;33m(\u001b[0m\u001b[1;33m*\u001b[0m\u001b[0margs\u001b[0m\u001b[1;33m,\u001b[0m \u001b[1;33m**\u001b[0m\u001b[0mkwargs\u001b[0m\u001b[1;33m)\u001b[0m\u001b[1;33m\u001b[0m\u001b[1;33m\u001b[0m\u001b[0m\n\u001b[0m\u001b[0;32m    151\u001b[0m     \u001b[1;32mexcept\u001b[0m \u001b[0mException\u001b[0m \u001b[1;32mas\u001b[0m \u001b[0me\u001b[0m\u001b[1;33m:\u001b[0m\u001b[1;33m\u001b[0m\u001b[1;33m\u001b[0m\u001b[0m\n\u001b[0;32m    152\u001b[0m       \u001b[0mfiltered_tb\u001b[0m \u001b[1;33m=\u001b[0m \u001b[0m_process_traceback_frames\u001b[0m\u001b[1;33m(\u001b[0m\u001b[0me\u001b[0m\u001b[1;33m.\u001b[0m\u001b[0m__traceback__\u001b[0m\u001b[1;33m)\u001b[0m\u001b[1;33m\u001b[0m\u001b[1;33m\u001b[0m\u001b[0m\n",
      "\u001b[1;32m~\\anaconda3\\lib\\site-packages\\tensorflow\\python\\eager\\def_function.py\u001b[0m in \u001b[0;36m__call__\u001b[1;34m(self, *args, **kwds)\u001b[0m\n\u001b[0;32m    913\u001b[0m \u001b[1;33m\u001b[0m\u001b[0m\n\u001b[0;32m    914\u001b[0m       \u001b[1;32mwith\u001b[0m \u001b[0mOptionalXlaContext\u001b[0m\u001b[1;33m(\u001b[0m\u001b[0mself\u001b[0m\u001b[1;33m.\u001b[0m\u001b[0m_jit_compile\u001b[0m\u001b[1;33m)\u001b[0m\u001b[1;33m:\u001b[0m\u001b[1;33m\u001b[0m\u001b[1;33m\u001b[0m\u001b[0m\n\u001b[1;32m--> 915\u001b[1;33m         \u001b[0mresult\u001b[0m \u001b[1;33m=\u001b[0m \u001b[0mself\u001b[0m\u001b[1;33m.\u001b[0m\u001b[0m_call\u001b[0m\u001b[1;33m(\u001b[0m\u001b[1;33m*\u001b[0m\u001b[0margs\u001b[0m\u001b[1;33m,\u001b[0m \u001b[1;33m**\u001b[0m\u001b[0mkwds\u001b[0m\u001b[1;33m)\u001b[0m\u001b[1;33m\u001b[0m\u001b[1;33m\u001b[0m\u001b[0m\n\u001b[0m\u001b[0;32m    916\u001b[0m \u001b[1;33m\u001b[0m\u001b[0m\n\u001b[0;32m    917\u001b[0m       \u001b[0mnew_tracing_count\u001b[0m \u001b[1;33m=\u001b[0m \u001b[0mself\u001b[0m\u001b[1;33m.\u001b[0m\u001b[0mexperimental_get_tracing_count\u001b[0m\u001b[1;33m(\u001b[0m\u001b[1;33m)\u001b[0m\u001b[1;33m\u001b[0m\u001b[1;33m\u001b[0m\u001b[0m\n",
      "\u001b[1;32m~\\anaconda3\\lib\\site-packages\\tensorflow\\python\\eager\\def_function.py\u001b[0m in \u001b[0;36m_call\u001b[1;34m(self, *args, **kwds)\u001b[0m\n\u001b[0;32m    945\u001b[0m       \u001b[1;31m# In this case we have created variables on the first call, so we run the\u001b[0m\u001b[1;33m\u001b[0m\u001b[1;33m\u001b[0m\u001b[1;33m\u001b[0m\u001b[0m\n\u001b[0;32m    946\u001b[0m       \u001b[1;31m# defunned version which is guaranteed to never create variables.\u001b[0m\u001b[1;33m\u001b[0m\u001b[1;33m\u001b[0m\u001b[1;33m\u001b[0m\u001b[0m\n\u001b[1;32m--> 947\u001b[1;33m       \u001b[1;32mreturn\u001b[0m \u001b[0mself\u001b[0m\u001b[1;33m.\u001b[0m\u001b[0m_stateless_fn\u001b[0m\u001b[1;33m(\u001b[0m\u001b[1;33m*\u001b[0m\u001b[0margs\u001b[0m\u001b[1;33m,\u001b[0m \u001b[1;33m**\u001b[0m\u001b[0mkwds\u001b[0m\u001b[1;33m)\u001b[0m  \u001b[1;31m# pylint: disable=not-callable\u001b[0m\u001b[1;33m\u001b[0m\u001b[1;33m\u001b[0m\u001b[0m\n\u001b[0m\u001b[0;32m    948\u001b[0m     \u001b[1;32melif\u001b[0m \u001b[0mself\u001b[0m\u001b[1;33m.\u001b[0m\u001b[0m_stateful_fn\u001b[0m \u001b[1;32mis\u001b[0m \u001b[1;32mnot\u001b[0m \u001b[1;32mNone\u001b[0m\u001b[1;33m:\u001b[0m\u001b[1;33m\u001b[0m\u001b[1;33m\u001b[0m\u001b[0m\n\u001b[0;32m    949\u001b[0m       \u001b[1;31m# Release the lock early so that multiple threads can perform the call\u001b[0m\u001b[1;33m\u001b[0m\u001b[1;33m\u001b[0m\u001b[1;33m\u001b[0m\u001b[0m\n",
      "\u001b[1;32m~\\anaconda3\\lib\\site-packages\\tensorflow\\python\\eager\\function.py\u001b[0m in \u001b[0;36m__call__\u001b[1;34m(self, *args, **kwargs)\u001b[0m\n\u001b[0;32m   2954\u001b[0m       (graph_function,\n\u001b[0;32m   2955\u001b[0m        filtered_flat_args) = self._maybe_define_function(args, kwargs)\n\u001b[1;32m-> 2956\u001b[1;33m     return graph_function._call_flat(\n\u001b[0m\u001b[0;32m   2957\u001b[0m         filtered_flat_args, captured_inputs=graph_function.captured_inputs)  # pylint: disable=protected-access\n\u001b[0;32m   2958\u001b[0m \u001b[1;33m\u001b[0m\u001b[0m\n",
      "\u001b[1;32m~\\anaconda3\\lib\\site-packages\\tensorflow\\python\\eager\\function.py\u001b[0m in \u001b[0;36m_call_flat\u001b[1;34m(self, args, captured_inputs, cancellation_manager)\u001b[0m\n\u001b[0;32m   1851\u001b[0m         and executing_eagerly):\n\u001b[0;32m   1852\u001b[0m       \u001b[1;31m# No tape is watching; skip to running the function.\u001b[0m\u001b[1;33m\u001b[0m\u001b[1;33m\u001b[0m\u001b[1;33m\u001b[0m\u001b[0m\n\u001b[1;32m-> 1853\u001b[1;33m       return self._build_call_outputs(self._inference_function.call(\n\u001b[0m\u001b[0;32m   1854\u001b[0m           ctx, args, cancellation_manager=cancellation_manager))\n\u001b[0;32m   1855\u001b[0m     forward_backward = self._select_forward_and_backward_functions(\n",
      "\u001b[1;32m~\\anaconda3\\lib\\site-packages\\tensorflow\\python\\eager\\function.py\u001b[0m in \u001b[0;36mcall\u001b[1;34m(self, ctx, args, cancellation_manager)\u001b[0m\n\u001b[0;32m    497\u001b[0m       \u001b[1;32mwith\u001b[0m \u001b[0m_InterpolateFunctionError\u001b[0m\u001b[1;33m(\u001b[0m\u001b[0mself\u001b[0m\u001b[1;33m)\u001b[0m\u001b[1;33m:\u001b[0m\u001b[1;33m\u001b[0m\u001b[1;33m\u001b[0m\u001b[0m\n\u001b[0;32m    498\u001b[0m         \u001b[1;32mif\u001b[0m \u001b[0mcancellation_manager\u001b[0m \u001b[1;32mis\u001b[0m \u001b[1;32mNone\u001b[0m\u001b[1;33m:\u001b[0m\u001b[1;33m\u001b[0m\u001b[1;33m\u001b[0m\u001b[0m\n\u001b[1;32m--> 499\u001b[1;33m           outputs = execute.execute(\n\u001b[0m\u001b[0;32m    500\u001b[0m               \u001b[0mstr\u001b[0m\u001b[1;33m(\u001b[0m\u001b[0mself\u001b[0m\u001b[1;33m.\u001b[0m\u001b[0msignature\u001b[0m\u001b[1;33m.\u001b[0m\u001b[0mname\u001b[0m\u001b[1;33m)\u001b[0m\u001b[1;33m,\u001b[0m\u001b[1;33m\u001b[0m\u001b[1;33m\u001b[0m\u001b[0m\n\u001b[0;32m    501\u001b[0m               \u001b[0mnum_outputs\u001b[0m\u001b[1;33m=\u001b[0m\u001b[0mself\u001b[0m\u001b[1;33m.\u001b[0m\u001b[0m_num_outputs\u001b[0m\u001b[1;33m,\u001b[0m\u001b[1;33m\u001b[0m\u001b[1;33m\u001b[0m\u001b[0m\n",
      "\u001b[1;32m~\\anaconda3\\lib\\site-packages\\tensorflow\\python\\eager\\execute.py\u001b[0m in \u001b[0;36mquick_execute\u001b[1;34m(op_name, num_outputs, inputs, attrs, ctx, name)\u001b[0m\n\u001b[0;32m     52\u001b[0m   \u001b[1;32mtry\u001b[0m\u001b[1;33m:\u001b[0m\u001b[1;33m\u001b[0m\u001b[1;33m\u001b[0m\u001b[0m\n\u001b[0;32m     53\u001b[0m     \u001b[0mctx\u001b[0m\u001b[1;33m.\u001b[0m\u001b[0mensure_initialized\u001b[0m\u001b[1;33m(\u001b[0m\u001b[1;33m)\u001b[0m\u001b[1;33m\u001b[0m\u001b[1;33m\u001b[0m\u001b[0m\n\u001b[1;32m---> 54\u001b[1;33m     tensors = pywrap_tfe.TFE_Py_Execute(ctx._handle, device_name, op_name,\n\u001b[0m\u001b[0;32m     55\u001b[0m                                         inputs, attrs, num_outputs)\n\u001b[0;32m     56\u001b[0m   \u001b[1;32mexcept\u001b[0m \u001b[0mcore\u001b[0m\u001b[1;33m.\u001b[0m\u001b[0m_NotOkStatusException\u001b[0m \u001b[1;32mas\u001b[0m \u001b[0me\u001b[0m\u001b[1;33m:\u001b[0m\u001b[1;33m\u001b[0m\u001b[1;33m\u001b[0m\u001b[0m\n",
      "\u001b[1;31mKeyboardInterrupt\u001b[0m: "
     ]
    }
   ],
   "source": [
    "# This model will take a long time to train, so we add an early stopping criterion\n",
    "# N.B: It's actually much faster to train WITHOUT A GPU!!\n",
    "callbacks = [EarlyStopping(monitor='val_accuracy', patience=2)]\n",
    "history = model.fit(x_train, y_train, batch_size=batch_size, epochs=20, validation_data=(x_val, y_val), callbacks=callbacks)\n",
    "plot_hist_classif(history)\n",
    "print('Test Accuracy = %.2f' % model.evaluate(x_test, y_test)[1])\n",
    "# Note that we're still overfitting, but this is just an example of use"
   ]
  },
  {
   "cell_type": "markdown",
   "metadata": {
    "id": "kzZhXm5gkz_g"
   },
   "source": [
    "## Your turn!\n",
    "\n",
    "Implement a bidirectional RNN that can outperform the LSTM model we had above.\n",
    "\n",
    "A starting skeleton could be:\n",
    " \n",
    "*   Embedding layer with an output dimension of 64\n",
    "*   Bidirectional layer with a 32-neuron LSTM layer\n",
    "*   Dense layer with 1 neuron and a sigmoid activation\n",
    "\n",
    "Some suggestions:\n",
    "\n",
    "- Change the sizes of the layers (i.e., the numbers of neurons)\n",
    "- Add dropout\n",
    "- Add other recurrent and/or bidirectional layers\n",
    "\n",
    "Once you have a model that scores over 90% on the validation set, check its performance on the test set and upload it on the code checker in Moodle.\n",
    "\n",
    "Note that the model I'm suggesting above will be able to reach the desired performance, but it will show signs of overfitting. Can you do it by adding regularization (dropout, smaller network) so you don't overfit?\n"
   ]
  },
  {
   "cell_type": "code",
   "execution_count": 51,
   "metadata": {
    "id": "jCHOC7dyadaj"
   },
   "outputs": [
    {
     "ename": "AttributeError",
     "evalue": "'Sequential' object has no attribute 'Sequential'",
     "output_type": "error",
     "traceback": [
      "\u001b[1;31m---------------------------------------------------------------------------\u001b[0m",
      "\u001b[1;31mAttributeError\u001b[0m                            Traceback (most recent call last)",
      "\u001b[1;32m<ipython-input-51-4712edc01256>\u001b[0m in \u001b[0;36m<module>\u001b[1;34m\u001b[0m\n\u001b[0;32m      1\u001b[0m \u001b[0mn_\u001b[0m \u001b[1;33m=\u001b[0m \u001b[1;36m10\u001b[0m  \u001b[1;31m# number of epochs. You can edit this\u001b[0m\u001b[1;33m\u001b[0m\u001b[1;33m\u001b[0m\u001b[0m\n\u001b[1;32m----> 2\u001b[1;33m \u001b[0mmodel\u001b[0m \u001b[1;33m=\u001b[0m \u001b[0mmodels\u001b[0m\u001b[1;33m.\u001b[0m\u001b[0mSequential\u001b[0m\u001b[1;33m(\u001b[0m\u001b[1;33m)\u001b[0m\u001b[1;33m\u001b[0m\u001b[1;33m\u001b[0m\u001b[0m\n\u001b[0m\u001b[0;32m      3\u001b[0m \u001b[1;31m# YOUR CODE HERE!\u001b[0m\u001b[1;33m\u001b[0m\u001b[1;33m\u001b[0m\u001b[1;33m\u001b[0m\u001b[0m\n\u001b[0;32m      4\u001b[0m \u001b[0mmodel\u001b[0m\u001b[1;33m.\u001b[0m\u001b[0madd\u001b[0m\u001b[1;33m(\u001b[0m\u001b[0mlayers\u001b[0m\u001b[1;33m.\u001b[0m\u001b[0mEmbedding\u001b[0m\u001b[1;33m(\u001b[0m\u001b[0mmax_features\u001b[0m\u001b[1;33m,\u001b[0m \u001b[1;36m64\u001b[0m\u001b[1;33m,\u001b[0m \u001b[0minput_length\u001b[0m\u001b[1;33m=\u001b[0m\u001b[0mmaxlen\u001b[0m\u001b[1;33m)\u001b[0m\u001b[1;33m)\u001b[0m\u001b[1;33m\u001b[0m\u001b[1;33m\u001b[0m\u001b[0m\n\u001b[0;32m      5\u001b[0m \u001b[0mmodel\u001b[0m\u001b[1;33m.\u001b[0m\u001b[0madd\u001b[0m\u001b[1;33m(\u001b[0m\u001b[0mlayers\u001b[0m\u001b[1;33m.\u001b[0m\u001b[0mLSTM\u001b[0m\u001b[1;33m(\u001b[0m\u001b[1;36m32\u001b[0m\u001b[1;33m,\u001b[0m \u001b[0mreturn_sequences\u001b[0m\u001b[1;33m=\u001b[0m\u001b[1;32mTrue\u001b[0m\u001b[1;33m)\u001b[0m\u001b[1;33m)\u001b[0m\u001b[1;33m\u001b[0m\u001b[1;33m\u001b[0m\u001b[0m\n",
      "\u001b[1;31mAttributeError\u001b[0m: 'Sequential' object has no attribute 'Sequential'"
     ]
    }
   ],
   "source": [
    "n_ = 10  # number of epochs. You can edit this\n",
    "model = models.Sequential()\n",
    "# YOUR CODE HERE!\n",
    "model.add(layers.Embedding(max_features, 64, input_length=maxlen))\n",
    "model.add(layers.LSTM(32, return_sequences=True))\n",
    "model.add(layers.Dense(1, activation=\"sigmoid\"))\n",
    "\n",
    "\n",
    "# I DON'T RECOMMEND THAT YOU CHANGE CODE AFTER THIS POINT\n",
    "model.compile(optimizer=\"rmsprop\", loss=\"binary_crossentropy\", metrics=[\"accuracy\"])\n",
    "\n",
    "print(model.summary())\n",
    "\n",
    "# This model will take a long time to train, so we add an early stopping criterion\n",
    "# I've also added a ModelCheckpoint that will save the best model according to val_accuracy regardless of whether we continue training\n",
    "callbacks = [EarlyStopping(monitor='val_accuracy', patience=1),\n",
    "             ModelCheckpoint(\"model.keras\", save_best_only=True, monitor=\"val_accuracy\", mode='max')]\n",
    "\n",
    "history = model.fit(x_train, y_train, batch_size=batch_size, epochs=n_, \n",
    "                    validation_data=(x_val, y_val), \n",
    "                    callbacks=callbacks)\n",
    "plot_hist_classif(history)\n",
    "model = keras.models.load_model(\"model.keras\")\n",
    "print('Test Accuracy = %.2f' % model.evaluate(x_test, y_test)[1])"
   ]
  },
  {
   "cell_type": "code",
   "execution_count": null,
   "metadata": {
    "id": "ZFBmg66_CR7y"
   },
   "outputs": [],
   "source": [
    "if model.count_params() > 1000000:\n",
    "    print(\"Due to memory constraints on Moodle, the lab quiz has a 10MB limit on your model size, so you need to use a smaller model to validate through the auto-marker.\")\n",
    "\n",
    "if history.history[\"val_accuracy\"][-1] > 0.9:\n",
    "    print(\"Your model is accurate enough!\")\n",
    "\n",
    "else:\n",
    "    print(\"Accuracy is below the threshold!\")\n",
    "    raise Exception(\"Your model isn't accurate enough to pass the progress checker!\")\n",
    "# Save the model into a local folder\n",
    "keras.models.save_model(model, \"Model.h5\",save_format='h5')\n",
    "print('Model saved! You can now upload it to the lab quiz.')"
   ]
  },
  {
   "cell_type": "code",
   "execution_count": null,
   "metadata": {
    "id": "hv7PyBQQsXav"
   },
   "outputs": [],
   "source": []
  }
 ],
 "metadata": {
  "colab": {
   "collapsed_sections": [
    "WlhjIvZR_a0Q",
    "rloJamyvWPWj",
    "7c-duA1Z_a0R",
    "3ozUAZX__a0R"
   ],
   "name": "Copy of rnn.ipynb",
   "provenance": []
  },
  "kernelspec": {
   "display_name": "Python 3",
   "language": "python",
   "name": "python3"
  },
  "language_info": {
   "codemirror_mode": {
    "name": "ipython",
    "version": 3
   },
   "file_extension": ".py",
   "mimetype": "text/x-python",
   "name": "python",
   "nbconvert_exporter": "python",
   "pygments_lexer": "ipython3",
   "version": "3.8.8"
  }
 },
 "nbformat": 4,
 "nbformat_minor": 1
}
