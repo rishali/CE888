{
  "cells": [
    {
      "cell_type": "markdown",
      "metadata": {
        "id": "nCi_99yMYIb1"
      },
      "source": [
        "In this notebook you'll create your own bootstrap function following the bootstrap algorithm (check the lecture notes!)"
      ]
    },
    {
      "cell_type": "code",
      "execution_count": 1,
      "metadata": {
        "id": "LY5zujI2YC37",
        "pycharm": {
          "name": "#%%# Imports\n"
        }
      },
      "outputs": [],
      "source": [
        "import matplotlib\n",
        "import pandas as pd\n",
        "import seaborn as sns\n",
        "import numpy as np\n",
        "\n"
      ]
    },
    {
      "cell_type": "code",
      "execution_count": 2,
      "metadata": {
        "id": "Eqkwj4SMY38t",
        "outputId": "cbd4a2c3-272d-44ef-dfba-0407f444ab3c",
        "colab": {
          "base_uri": "https://localhost:8080/"
        }
      },
      "outputs": [
        {
          "output_type": "stream",
          "name": "stdout",
          "text": [
            "(14, 2)\n",
            "[ 2.  8. 20. 13.  5.  9. 10.  8. 22. 10.  2.  4.  7.  9.]\n"
          ]
        }
      ],
      "source": [
        "# Load the data\n",
        "df = pd.read_csv('https://raw.githubusercontent.com/albanda/CE888/master/lab2%20-%20bootstrap/customers.csv')\n",
        "data = df.values.T[1]\n",
        "print(df.shape)\n",
        "print(data)"
      ]
    },
    {
      "cell_type": "code",
      "execution_count": 3,
      "metadata": {
        "id": "Gxvc_bScYC4H",
        "pycharm": {
          "name": "#%%\n"
        },
        "outputId": "0b4088ec-c930-46ac-8e7d-df9eac7f9d5b",
        "colab": {
          "base_uri": "https://localhost:8080/"
        }
      },
      "outputs": [
        {
          "output_type": "stream",
          "name": "stdout",
          "text": [
            "arrays -----\n",
            "[[ 8. 10. 10. 10. 20.  9. 10.  2.  5. 13.]\n",
            " [ 2. 22.  5. 10. 10.  7.  9.  5. 13.  2.]\n",
            " [ 5.  9. 13.  8. 13.  7. 22. 22.  9.  4.]\n",
            " [ 7.  5.  9.  2. 10.  9. 13. 22. 20.  2.]\n",
            " [ 2.  9.  2. 10.  9.  4.  2.  7.  5.  9.]]\n",
            "individual means - \n",
            "[ 9.7  8.5 11.2  9.9  5.9]\n",
            "individual means - \n",
            "[ 9.7  8.5 11.2  9.9  5.9]\n",
            "sorted array of means -  [ 5.9  8.5  9.7  9.9 11.2]\n",
            "data mean -  9.040000000000001\n",
            "6.16 11.069999999999999\n",
            "6.94 10.68\n"
          ]
        }
      ],
      "source": [
        "sample_size = 10\n",
        "n_bootstraps = 5\n",
        "\n",
        "d_array = np.random.choice(data,size=(n_bootstraps,sample_size))\n",
        "print(\"arrays -----\")\n",
        "print(d_array)\n",
        "\n",
        "# d_mean_arr = d_array.nanmean(axis = 1)\n",
        "d_mean_arr = np.nanmean(d_array, axis=1)\n",
        "print(\"individual means - \")\n",
        "print(d_mean_arr)\n",
        "\n",
        "d_mean_arr = d_array.mean(axis=1)\n",
        "print(\"individual means - \")\n",
        "print(d_mean_arr)\n",
        "\n",
        "d_mean_arr_sort = np.sort(d_mean_arr)\n",
        "print(\"sorted array of means - \", d_mean_arr_sort)\n",
        "\n",
        "print(\"data mean - \", np.mean(d_mean_arr_sort))\n",
        "\n",
        "print(np.percentile(d_mean_arr_sort, 2.5),np.percentile(d_mean_arr_sort, 97.5))\n",
        "print(np.percentile(d_mean_arr_sort, 10),np.percentile(d_mean_arr_sort, 90.0))"
      ]
    },
    {
      "cell_type": "code",
      "execution_count": 4,
      "metadata": {
        "id": "AN7sEOcMYC4P",
        "pycharm": {
          "name": "#%%\n"
        }
      },
      "outputs": [],
      "source": [
        "# Checking the notes from the lecture, create here your own bootstrap function:\n",
        "# 1. Sample from the input array x to create an array of samples of shape (n_bootstraps, sample_size)\n",
        "# Hint: Check the function random.choice() on Numpy\n",
        "# 2. Calculate and save the mean of the array (this is \"data_mean\" that is returned by the function)\n",
        "# 3. Calculate the mean from each bootstrap (i.e., row) and store it.\n",
        "# (This should be an array of n_bootstraps values)\n",
        "# 4. Calculate the lower and upper bounds for a 95% CI (hint: check the percentile function on Numpy)\n",
        "# 5. Return data_mean, and the lower and upper bounds of your interval\n",
        "def bootstrap_mean(x, sample_size, n_bootstraps):\n",
        "\td_array = np.random.choice(x,size=(n_bootstraps,sample_size))\n",
        "\td_mean_arr = d_array.mean(axis = 1)\n",
        "\td_mean_arr_sort = np.sort(d_mean_arr)\n",
        "\tdata_mean = np.mean(d_mean_arr_sort)\n",
        "\tlow = np.percentile(d_mean_arr_sort, 2.5)\n",
        "\tuppr = np.percentile(d_mean_arr_sort, 97.5)\n",
        "\treturn data_mean, low, uppr"
      ]
    },
    {
      "cell_type": "markdown",
      "metadata": {
        "id": "MjtP4e2_YC4V"
      },
      "source": [
        "\n",
        "Now, modify the bootstrap function you created above so that you can pass your desired confidence interval as a parameter.\n",
        "\n"
      ]
    },
    {
      "cell_type": "code",
      "execution_count": 5,
      "metadata": {
        "id": "3K9j0FuGYhHs",
        "outputId": "911b5ccb-d300-4e79-c8e3-7651f1b64e41",
        "colab": {
          "base_uri": "https://localhost:8080/",
          "height": 441
        }
      },
      "outputs": [
        {
          "output_type": "stream",
          "name": "stderr",
          "text": [
            "/usr/local/lib/python3.7/dist-packages/seaborn/_decorators.py:43: FutureWarning: Pass the following variables as keyword args: x, y. From version 0.12, the only valid positional argument will be `data`, and passing other arguments without an explicit keyword will result in an error or misinterpretation.\n",
            "  FutureWarning\n"
          ]
        },
        {
          "output_type": "execute_result",
          "data": {
            "text/plain": [
              "(0.0, 50000.0)"
            ]
          },
          "metadata": {},
          "execution_count": 5
        },
        {
          "output_type": "display_data",
          "data": {
            "text/plain": [
              "<Figure size 425.125x360 with 1 Axes>"
            ],
            "image/png": "[encoded data removed]"
          },
          "metadata": {
            "needs_background": "light"
          }
        }
      ],
      "source": [
        "# Call your bootstrap function and plot the results\n",
        "\n",
        "boots = []\n",
        "for i in range(100, 50000, 1000):\n",
        "    boot = bootstrap_mean(data, data.shape[0], i)\n",
        "    boots.append([i, boot[0], \"mean\"])\n",
        "    boots.append([i, boot[1], \"lower\"])\n",
        "    boots.append([i, boot[2], \"upper\"])\n",
        "\n",
        "df_boot = pd.DataFrame(boots, columns=['Bootstrap Iterations', 'Mean', \"Value\"])\n",
        "sns_plot = sns.lmplot(df_boot.columns[0], df_boot.columns[1], data=df_boot, fit_reg=False, hue=\"Value\")\n",
        "\n",
        "sns_plot.axes[0, 0].set_ylim(0,)\n",
        "sns_plot.axes[0, 0].set_xlim(0, 50000)"
      ]
    },
    {
      "cell_type": "code",
      "execution_count": 6,
      "metadata": {
        "id": "U7qcRc5RbBeX"
      },
      "outputs": [],
      "source": [
        "#     d_mean_arr = d_array.mean(axis = 1, skipna = True)\n",
        "def bootstrap_mean_ci(sample, sample_size, n_bootstraps, ci):\n",
        "\t# <---INSERT YOUR CODE HERE--->\n",
        "    d_array = np.random.choice(sample,size=(n_bootstraps,sample_size))\n",
        "    d_mean_arr = np.nanmean(d_array, axis=1)\n",
        "    d_mean_arr_sort = np.sort(d_mean_arr)\n",
        "    data_mean = np.mean(d_mean_arr_sort)\n",
        "    lower_ci = (100-ci)/2\n",
        "    upper_ci = 100-lower_ci\n",
        "    low = np.percentile(d_mean_arr_sort, lower_ci)\n",
        "    uppr = np.percentile(d_mean_arr_sort, upper_ci)\n",
        "    return data_mean, low, uppr"
      ]
    },
    {
      "cell_type": "code",
      "source": [
        "def bootstrap_sd_ci(sample, sample_size, n_bootstraps, ci):\n",
        "\t# <---INSERT YOUR CODE HERE--->\n",
        "    d_array = np.random.choice(sample,size=(n_bootstraps,sample_size))\n",
        "    d_std_arr = np.std(d_array, axis=1)\n",
        "    d_std_arr_sort = np.sort(d_std_arr)\n",
        "    data_std = np.std(d_std_arr_sort)\n",
        "    lower_ci = (100-ci)/2\n",
        "    upper_ci = 100-lower_ci\n",
        "    low = np.percentile(d_std_arr_sort, lower_ci)\n",
        "    uppr = np.percentile(d_std_arr_sort, upper_ci)\n",
        "    return data_std, low, uppr"
      ],
      "metadata": {
        "id": "F_B6D-xIwpbT"
      },
      "execution_count": 9,
      "outputs": []
    },
    {
      "cell_type": "code",
      "execution_count": 10,
      "metadata": {
        "colab": {
          "base_uri": "https://localhost:8080/"
        },
        "id": "uDnjq08GYl-C",
        "outputId": "688d08ff-a699-4bcc-9d49-32a188099590"
      },
      "outputs": [
        {
          "output_type": "stream",
          "name": "stdout",
          "text": [
            "9.18287857142857 7.285714285714286 11.214285714285714\n",
            "1.1973525612929834 3.0203392159808535 7.1056351591033815\n"
          ]
        }
      ],
      "source": [
        "a,b,c = bootstrap_mean_ci(data, len(data), 10000, 80)\n",
        "print(a,b,c)\n",
        "a,b,c = bootstrap_sd_ci(data, len(data), 10000, 90)\n",
        "print(a,b,c)"
      ]
    },
    {
      "cell_type": "code",
      "source": [
        "boots = []\n",
        "for i in range(100, 50000, 1000):\n",
        "    boot = bootstrap_mean_ci(data, data.shape[0], i, 80)\n",
        "    boots.append([i, boot[0], \"mean\"])\n",
        "    boots.append([i, boot[1], \"lower\"])\n",
        "    boots.append([i, boot[2], \"upper\"])\n",
        "\n",
        "df_boot = pd.DataFrame(boots, columns=['Boostrap Iterations', 'Mean', \"Value\"])\n",
        "sns_plot = sns.lmplot(df_boot.columns[0], df_boot.columns[1], data=df_boot, fit_reg=False, hue=\"Value\")\n",
        "\n",
        "sns_plot.axes[0, 0].set_ylim(0,)\n",
        "sns_plot.axes[0, 0].set_xlim(0, 50000)\n",
        "\n",
        "#sns_plot.savefig(\"bootstrap_confidence_80.pdf\", bbox_inches='tight')"
      ],
      "metadata": {
        "id": "Gb0WXgytwtYu",
        "outputId": "5e393e74-8ea7-4719-ba85-aa9f3b7ef58f",
        "colab": {
          "base_uri": "https://localhost:8080/",
          "height": 441
        }
      },
      "execution_count": 13,
      "outputs": [
        {
          "output_type": "stream",
          "name": "stderr",
          "text": [
            "/usr/local/lib/python3.7/dist-packages/seaborn/_decorators.py:43: FutureWarning: Pass the following variables as keyword args: x, y. From version 0.12, the only valid positional argument will be `data`, and passing other arguments without an explicit keyword will result in an error or misinterpretation.\n",
            "  FutureWarning\n"
          ]
        },
        {
          "output_type": "execute_result",
          "data": {
            "text/plain": [
              "(0.0, 50000.0)"
            ]
          },
          "metadata": {},
          "execution_count": 13
        },
        {
          "output_type": "display_data",
          "data": {
            "text/plain": [
              "<Figure size 425.125x360 with 1 Axes>"
            ],
            "image/png": "[encoded data removed]"
          },
          "metadata": {
            "needs_background": "light"
          }
        }
      ]
    },
    {
      "cell_type": "markdown",
      "metadata": {
        "id": "qjNgXW6wdd7r"
      },
      "source": [
        "# Vehicles dataset\n",
        "\n",
        "Now let's work on a different dataset, which is stored in the vehicles.csv file.\n"
      ]
    },
    {
      "cell_type": "code",
      "execution_count": 14,
      "metadata": {
        "colab": {
          "base_uri": "https://localhost:8080/",
          "height": 828
        },
        "id": "avWv4ipFdpka",
        "outputId": "be24a172-b5a7-436c-ae7c-2ccf4d21b3b3"
      },
      "outputs": [
        {
          "output_type": "stream",
          "name": "stderr",
          "text": [
            "/usr/local/lib/python3.7/dist-packages/seaborn/_decorators.py:43: FutureWarning: Pass the following variables as keyword args: x, y. From version 0.12, the only valid positional argument will be `data`, and passing other arguments without an explicit keyword will result in an error or misinterpretation.\n",
            "  FutureWarning\n",
            "/usr/local/lib/python3.7/dist-packages/seaborn/_decorators.py:43: FutureWarning: Pass the following variables as keyword args: x, y. From version 0.12, the only valid positional argument will be `data`, and passing other arguments without an explicit keyword will result in an error or misinterpretation.\n",
            "  FutureWarning\n"
          ]
        },
        {
          "output_type": "execute_result",
          "data": {
            "text/plain": [
              "<seaborn.axisgrid.FacetGrid at 0x7f019f4d5ed0>"
            ]
          },
          "metadata": {},
          "execution_count": 14
        },
        {
          "output_type": "display_data",
          "data": {
            "text/plain": [
              "<Figure size 360x360 with 1 Axes>"
            ],
            "image/png": "[encoded data removed]"
          },
          "metadata": {
            "needs_background": "light"
          }
        },
        {
          "output_type": "display_data",
          "data": {
            "text/plain": [
              "<Figure size 360x360 with 1 Axes>"
            ],
            "image/png": "[encoded data removed]"
          },
          "metadata": {
            "needs_background": "light"
          }
        }
      ],
      "source": [
        "# Load and visualise the vehicles dataset\n",
        "# To load the dataset: https://neptune.ai/blog/google-colab-dealing-with-files (check section \"Load individual files directly from GitHub\")\n",
        "\n",
        "df_vehicles = pd.read_csv(\"https://raw.githubusercontent.com/albanda/CE888/master/lab2%20-%20bootstrap/vehicles.csv\")\n",
        "\n",
        "df_vehicles.insert(0, 'Car_ID', range(1, 1 + len(df_vehicles)))\n",
        "\n",
        "\n",
        "# Note that the current and new fleets are in different columns and have different lengths, so bear this in mind when you're plotting.\n",
        "# You can create separate scatterplots for the two fleets, as you would with the histograms, \n",
        "# or plot them both in one plot (but not one against the other).\n",
        "# <---INSERT YOUR CODE HERE--->\n",
        "\n",
        "sns.lmplot(df_vehicles.columns[0], df_vehicles.columns[1], data=df_vehicles, fit_reg=False)\n",
        "sns.lmplot(df_vehicles.columns[0], df_vehicles.columns[2], data=df_vehicles, fit_reg=False)\n",
        "\n",
        "# Note: you can add more cells as needed to organise your code and your plots\n"
      ]
    },
    {
      "cell_type": "markdown",
      "metadata": {
        "id": "B5d0tXDpIEj8"
      },
      "source": [
        "## Compare the two fleets\n",
        "\n",
        "The business analysts come up a comparison algorithm that requires the upper and lower bounds for the mean in order to say which fleet is better.\n",
        "1. Calculate the mean of both samples.\n",
        "2. Using the bootstrap function that you created:\n",
        "    - Construct the 95% CI of the mean of the current fleet.\n",
        "    - Construct the 95% CI of the mean of the new fleet.\n",
        "    - Are they comparable? (i.e., is one better than the other?) -- you can do this with a permutation test (check the lecture notes!)"
      ]
    },
    {
      "cell_type": "code",
      "execution_count": 15,
      "metadata": {
        "colab": {
          "base_uri": "https://localhost:8080/"
        },
        "id": "po4mp6zRHC0m",
        "outputId": "c2686734-8b94-4d0c-bc88-cb8b24a3414e"
      },
      "outputs": [
        {
          "output_type": "stream",
          "name": "stdout",
          "text": [
            "Car_ID           125.000000\n",
            "Current fleet     20.144578\n",
            "New Fleet         30.481013\n",
            "dtype: float64\n",
            "------\n",
            "20.139318473895585 19.445622489959838 20.863453815261042\n",
            "------\n",
            "79\n",
            "30.483835443037975 29.911392405063292 31.050632911392405\n",
            "1.0332625798894317 3.2699913344445966 8.591985930052623\n"
          ]
        }
      ],
      "source": [
        "# <---INSERT YOUR CODE HERE--->\n",
        "# 1. Calculate the mean of both samples.\n",
        "df_means = df_vehicles.mean(axis = 0, skipna = True)\n",
        "print(df_means)\n",
        "print(\"------\")\n",
        "# bootstrap_mean_ci(sample, sample_size, n_bootstraps, ci)\n",
        "data_mean_curr, lower_curr, upper_curr = bootstrap_mean_ci(df_vehicles[\"Current fleet\"], len(df_vehicles[\"Current fleet\"]), 10000, 92)\n",
        "print(data_mean_curr, lower_curr, upper_curr)\n",
        "print(\"------\")\n",
        "sample = df_vehicles[\"New Fleet\"].dropna()\n",
        "print(len(sample))\n",
        "data_mean_new, lower_new, upper_new = bootstrap_mean_ci(sample, len(sample), 10000, 60)\n",
        "print(data_mean_new, lower_new, upper_new)\n",
        "data_std_new, lower_new, upper_new = bootstrap_sd_ci(sample, 15, 10000, 99)\n",
        "print(data_std_new, lower_new, upper_new)"
      ]
    },
    {
      "cell_type": "code",
      "execution_count": 17,
      "metadata": {
        "id": "MkxvDZG4HC0n",
        "outputId": "9f7c9de3-9bc0-483a-fdd7-f3c60a04dc1a",
        "colab": {
          "base_uri": "https://localhost:8080/"
        }
      },
      "outputs": [
        {
          "output_type": "stream",
          "name": "stdout",
          "text": [
            "0.2900982049690444 5.629894020283008 7.110709718145152\n",
            "nan nan nan\n"
          ]
        }
      ],
      "source": [
        "a,b,c = bootstrap_sd_ci(df_vehicles[\"Current fleet\"], len(df_vehicles[\"Current fleet\"]), 10000, 99)\n",
        "print(a,b,c)\n",
        "a,b,c = bootstrap_sd_ci(df_vehicles[\"New Fleet\"], len(df_vehicles[\"New Fleet\"]), 10000, 85)\n",
        "print(a,b,c)"
      ]
    },
    {
      "cell_type": "code",
      "execution_count": 18,
      "metadata": {
        "colab": {
          "base_uri": "https://localhost:8080/"
        },
        "id": "F1H7hQlfb-VX",
        "outputId": "fc5b7cba-71fe-49d5-f15c-a93cdc57266d"
      },
      "outputs": [
        {
          "output_type": "stream",
          "name": "stdout",
          "text": [
            "30.48681230136617 29.595238095238095 31.361781914893616\n",
            "20.14872248995984 19.453815261044177 20.859437751004016\n",
            "20.141774698795178 19.566265060240966 20.730923694779115\n"
          ]
        }
      ],
      "source": [
        "data_mean_curr, lower_curr, upper_curr = bootstrap_mean_ci(df_vehicles[\"New Fleet\"], len(df_vehicles[\"New Fleet\"]), 10000, 80)\n",
        "print(data_mean_curr, lower_curr, upper_curr)\n",
        "\n",
        "data_mean_curr, lower_curr, upper_curr = bootstrap_mean_ci(df_vehicles[\"Current fleet\"], len(df_vehicles[\"Current fleet\"]), 10000, 92)\n",
        "print(data_mean_curr, lower_curr, upper_curr)\n",
        "\n",
        "data_mean_curr1, lower_curr1, upper_curr1 = bootstrap_mean_ci(df_vehicles[\"Current fleet\"], len(df_vehicles[\"Current fleet\"]), 10000, 85)\n",
        "print(data_mean_curr1, lower_curr1, upper_curr1)"
      ]
    },
    {
      "cell_type": "code",
      "source": [
        "# Create your own function for a permutation test here (you will need it for the lab quiz!):\n",
        "\n",
        "\n",
        "def permut_test(sample1, sample2, n_permutations):\n",
        "    \"\"\"\n",
        "    sample1: 1D array, old\n",
        "    sample2: 1D array (note that the size of the two arrays can be different), new\n",
        "    n_permutations: number of permutations to calculate the p-value\n",
        "    \"\"\"\n",
        "    tobs = np.mean(sample2)-np.mean(sample1)\n",
        "\n",
        "    concat = np.concatenate((sample1, sample2))\n",
        "    count=0    \n",
        "    for i in range(n_permutations):\n",
        "        perm = np.random.permutation(concat)\n",
        "        pold = perm[:int(len(perm)/2)]\n",
        "        pnew = perm[int(len(perm)/2):]\n",
        "        tperm = np.mean(pnew)-np.mean(pold)\n",
        "        if tperm>tobs:\n",
        "            count+=1\n",
        "    pvalue = count/n_permutations\n",
        "    return pvalue"
      ],
      "metadata": {
        "id": "m1Y6LzIOxP0M"
      },
      "execution_count": 19,
      "outputs": []
    },
    {
      "cell_type": "code",
      "source": [
        "sample1 = df_vehicles.iloc[:,1]\n",
        "sample2 = df_vehicles.iloc[:,2].dropna()\n",
        "\n",
        "# sample1 = [0,0,0,1,1,1,1,1,0,0,0]\n",
        "# sample2 = [1,1,1,1,1,1,1,1,1,0,0,0,0,1,0,1,0]\n",
        "\n",
        "pvalue = permut_test(sample1, sample2, 30000)\n",
        "print(pvalue)\n",
        "\n",
        "\n",
        "\n",
        "dem_share_PA = [60.08, 40.64, 36.07, 41.21, 31.04, 43.78, 44.08, 46.85, 44.71, 46.15, 63.10, 52.20, 43.18, 40.24, 39.92, 47.87, 37.77, 40.11, 49.85, 48.61, 38.62, 54.25, 34.84, 47.75, 43.82, 55.97, 58.23, 42.97, 42.38, 36.11, 37.53, 42.65, 50.96, 47.43, 56.24, 45.60, 46.39, 35.22, 48.56, 32.97, 57.88, 36.05, 37.72, 50.36, 32.12, 41.55, 54.66, 57.81, 54.58, 32.88, 54.37, 40.45, 47.61, 60.49, 43.11, 27.32, 44.03, 33.56, 37.26, 54.64, 43.12, 25.34, 49.79, 83.56, 40.09, 60.81, 49.81]\n",
        "dem_share_OH = [56.94, 50.46, 65.99, 45.88, 42.23, 45.26, 57.01, 53.61, 59.10, 61.48, 43.43, 44.69, 54.59, 48.36, 45.89, 48.62, 43.92, 38.23, 28.79, 63.57, 38.07, 40.18, 43.05, 41.56, 42.49, 36.06, 52.76, 46.07, 39.43, 39.26, 47.47, 27.92, 38.01, 45.45, 29.07, 28.94, 51.28, 50.10, 39.84, 36.43, 35.71, 31.47, 47.01, 40.10, 48.76, 31.56, 39.86, 45.31, 35.47, 51.38, 46.33, 48.73, 41.77, 41.32, 48.46, 53.14, 34.01, 54.74, 40.67, 38.96, 46.29, 38.25, 6.80, 31.75, 46.33, 44.90, 33.57, 38.10, 39.67, 40.47, 49.44, 37.62, 36.71, 46.73, 42.20, 53.16, 52.40, 58.36, 68.02, 38.53, 34.58, 69.64, 60.50, 53.53, 36.54, 49.58, 41.97, 38.11]\n",
        "\n",
        "print(len(dem_share_PA))\n",
        "print(len(dem_share_OH))\n",
        "\n",
        "data_mean_new, lower_new, upper_new = bootstrap_mean_ci(dem_share_OH, len(dem_share_OH), 20000, 95)\n",
        "print(data_mean_new, lower_new, upper_new)\n",
        "\n",
        "data_mean_new, lower_new, upper_new = bootstrap_mean_ci(dem_share_PA, len(dem_share_PA), 20000, 95)\n",
        "print(data_mean_new, lower_new, upper_new)\n",
        "\n",
        "pvalue = permut_test(dem_share_PA, dem_share_OH, 10000)\n",
        "print(pvalue)"
      ],
      "metadata": {
        "id": "wB5vYLZ6xQyI",
        "outputId": "13261cf0-fcac-44ef-bdb1-4f04997397b7",
        "colab": {
          "base_uri": "https://localhost:8080/"
        }
      },
      "execution_count": 20,
      "outputs": [
        {
          "output_type": "stream",
          "name": "stdout",
          "text": [
            "0.0\n",
            "67\n",
            "88\n",
            "44.306447806818184 42.276289772727274 46.385374999999996\n",
            "45.47129626119403 43.211641791044784 47.85292164179104\n",
            "0.7627\n"
          ]
        }
      ]
    },
    {
      "cell_type": "code",
      "execution_count": null,
      "metadata": {
        "id": "isqbz8T8q0qu"
      },
      "outputs": [],
      "source": [
        ""
      ]
    }
  ],
  "metadata": {
    "colab": {
      "name": "bootstrap.ipynb",
      "provenance": []
    },
    "kernelspec": {
      "display_name": "Python 3",
      "language": "python",
      "name": "python3"
    },
    "language_info": {
      "codemirror_mode": {
        "name": "ipython",
        "version": 3
      },
      "file_extension": ".py",
      "mimetype": "text/x-python",
      "name": "python",
      "nbconvert_exporter": "python",
      "pygments_lexer": "ipython3",
      "version": "3.8.8"
    },
    "pycharm": {
      "stem_cell": {
        "cell_type": "raw",
        "metadata": {
          "collapsed": false
        },
        "source": []
      }
    }
  },
  "nbformat": 4,
  "nbformat_minor": 0
}